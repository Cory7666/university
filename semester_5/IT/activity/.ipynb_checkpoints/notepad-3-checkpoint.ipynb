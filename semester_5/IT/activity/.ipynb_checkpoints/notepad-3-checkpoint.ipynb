{
 "cells": [
  {
   "cell_type": "markdown",
   "id": "c61f6fc2",
   "metadata": {},
   "source": [
    "# Notepad №3. Information technologies"
   ]
  },
  {
   "cell_type": "markdown",
   "id": "33adc1e5",
   "metadata": {},
   "source": [
    "by Alex Filzop from IS/b-20-2-o"
   ]
  },
  {
   "cell_type": "markdown",
   "id": "27425741",
   "metadata": {},
   "source": [
    "## List input/output"
   ]
  },
  {
   "cell_type": "markdown",
   "id": "df0bc95f",
   "metadata": {},
   "source": [
    "### Convert a string into a list"
   ]
  },
  {
   "cell_type": "markdown",
   "id": "3b8f4a5e",
   "metadata": {},
   "source": [
    "Let's take a string consisting of words separated by spaces (maybe more than one) and end-of-line characters."
   ]
  },
  {
   "cell_type": "code",
   "execution_count": 1,
   "id": "5c6ec18d",
   "metadata": {},
   "outputs": [
    {
     "name": "stdout",
     "output_type": "stream",
     "text": [
      "hello world this is a\n",
      "test\n"
     ]
    }
   ],
   "source": [
    "s = \"hello world this is a\\ntest\" #create the string\n",
    "print(s) # just print the string"
   ]
  },
  {
   "cell_type": "markdown",
   "id": "673d7614",
   "metadata": {},
   "source": [
    "If we want to work with individual words included in this string, then it needs to be divided into separate words — that is, to get a list consisting of words that are included in this string. To do this, you can use the `split()` method."
   ]
  },
  {
   "cell_type": "code",
   "execution_count": 2,
   "id": "a65bdfca",
   "metadata": {},
   "outputs": [
    {
     "data": {
      "text/plain": [
       "['hello', 'world', 'this', 'is', 'a', 'test']"
      ]
     },
     "execution_count": 2,
     "metadata": {},
     "output_type": "execute_result"
    }
   ],
   "source": [
    "s.split() # split the string"
   ]
  },
  {
   "cell_type": "markdown",
   "id": "7988af35",
   "metadata": {},
   "source": [
    "So, we got exactly what we wanted. Note that spaces (one or more) were used as a separator in this case, as well as any whitespace characters, which include the tab character (we did not have it) and the newline character `\\n`. Separators do not fall into the elements of the resulting list."
   ]
  },
  {
   "cell_type": "markdown",
   "id": "747269b6",
   "metadata": {},
   "source": [
    "**Attention!** The `split()` method does not change the string (generally speaking, the string cannot be changed in principle):"
   ]
  },
  {
   "cell_type": "code",
   "execution_count": 3,
   "id": "e6eff04c",
   "metadata": {},
   "outputs": [
    {
     "name": "stdout",
     "output_type": "stream",
     "text": [
      "hello world    this is a\n",
      "test\n"
     ]
    }
   ],
   "source": [
    "s = \"hello world    this is a\\ntest\" # createthe string\n",
    "s.split() # split string by text delimiters\n",
    "print(s) # print list"
   ]
  },
  {
   "cell_type": "markdown",
   "id": "08736c2f",
   "metadata": {},
   "source": [
    "In the code above, the second line does not lead to any effect — you created a list and instantly forgot it, but the line remained unchanged. If you want to do something further with the list obtained as a result of using `split()`, and not just admire it and forget it forever, then you need, for example, to save it as some kind of variable:"
   ]
  },
  {
   "cell_type": "code",
   "execution_count": 4,
   "id": "0b7811ef",
   "metadata": {},
   "outputs": [
    {
     "name": "stdout",
     "output_type": "stream",
     "text": [
      "hello\n",
      "world\n",
      "this\n",
      "is\n",
      "a\n",
      "test\n"
     ]
    }
   ],
   "source": [
    "words = s.split() # split the string and asign result\n",
    "for word in words: # iterating the list\n",
    "    print(word) # print list's element"
   ]
  },
  {
   "cell_type": "markdown",
   "id": "5dd9dadb",
   "metadata": {},
   "source": [
    "The `split()` method has an optional separator parameter. If it is specified, then the line it is split according to the separator that was passed to it."
   ]
  },
  {
   "cell_type": "code",
   "execution_count": 5,
   "id": "15d314c7",
   "metadata": {},
   "outputs": [
    {
     "data": {
      "text/plain": [
       "['hello world', 'this is a\\ntest']"
      ]
     },
     "execution_count": 5,
     "metadata": {},
     "output_type": "execute_result"
    }
   ],
   "source": [
    "s.split(\"    \") # split the string s by four spaces"
   ]
  },
  {
   "cell_type": "markdown",
   "id": "5c84c759",
   "metadata": {},
   "source": [
    "We passed four spaces as a separator and now the string is separated by them, and one space or a newline character is not perceived as a separator."
   ]
  },
  {
   "cell_type": "markdown",
   "id": "66a43e27",
   "metadata": {},
   "source": [
    "Let's say we want to enter several numbers separated by commas and output each of them increased by 1. Let's try that code:"
   ]
  },
  {
   "cell_type": "code",
   "execution_count": null,
   "id": "cb426cf9",
   "metadata": {},
   "outputs": [],
   "source": [
    "s = input(\"Enter a few numbers divided by commas: \") # get string from user\n",
    "elements = s.split(\",\") # split string\n",
    "# for n in elements: # iterating the list\n",
    "#    print(n+1) # TypeError: must be str, not int"
   ]
  },
  {
   "cell_type": "markdown",
   "id": "c34873ea",
   "metadata": {},
   "source": [
    "As you might guess, it doesn't work: after splitting a string, a list consisting of strings is obtained. To turn these strings into numbers, you need to use `int`. Generally speaking, there are methods that make it quite easy to turn all the elements of the list into numbers, but until we get to them, we will process each element separately in a loop."
   ]
  },
  {
   "cell_type": "code",
   "execution_count": null,
   "id": "52aa83c4",
   "metadata": {},
   "outputs": [],
   "source": [
    "s = input(\"Enter a few numbers divided by commas: \") # get string from user\n",
    "elements = s.split(\",\") # split string\n",
    "for n in elements: # iterating the list\n",
    "    print(int(n)+1) # add 1 and print result"
   ]
  },
  {
   "cell_type": "markdown",
   "id": "cfa2eab4",
   "metadata": {},
   "source": [
    "Now it works!"
   ]
  },
  {
   "cell_type": "markdown",
   "id": "15d02393",
   "metadata": {},
   "source": [
    "### Displaying the list in a row"
   ]
  },
  {
   "cell_type": "markdown",
   "id": "7e74812a",
   "metadata": {},
   "source": [
    "Now let's solve the inverse problem: there is a list, we want to output it in some form. There are different ways to do this. For example, you can simply print:"
   ]
  },
  {
   "cell_type": "code",
   "execution_count": null,
   "id": "6c13404b",
   "metadata": {},
   "outputs": [],
   "source": [
    "elements = [\"one\", \"two\", \"three\"] # create the list\n",
    "print(elements) # print list"
   ]
  },
  {
   "cell_type": "markdown",
   "id": "06d6047f",
   "metadata": {},
   "source": [
    "There the list items are enclosed in brackets, and each line is additionally enclosed in quotation marks. You can print it in a loop element by element, as in the example above:"
   ]
  },
  {
   "cell_type": "code",
   "execution_count": null,
   "id": "02f13bbb",
   "metadata": {},
   "outputs": [],
   "source": [
    "for el in elements: # iterating the list\n",
    "    print(el) # print list's element"
   ]
  },
  {
   "cell_type": "markdown",
   "id": "5e4f26ad",
   "metadata": {},
   "source": [
    "This prints it in a column because `print()` by default adds a newline character `\\n` at the end of each output line. If we want to display the elements of the list in some other way, for example, in a line, but without brackets, commas and quotes, then we need to use other methods."
   ]
  },
  {
   "cell_type": "markdown",
   "id": "ed6924aa",
   "metadata": {},
   "source": [
    "The first of these is the use of the `join()` method."
   ]
  },
  {
   "cell_type": "code",
   "execution_count": null,
   "id": "33497354",
   "metadata": {},
   "outputs": [],
   "source": [
    "print(\" \".join(elements)) # join list's elements and print result"
   ]
  },
  {
   "cell_type": "code",
   "execution_count": null,
   "id": "11ae7468",
   "metadata": {},
   "outputs": [],
   "source": [
    "print(\":\".join(elements)) # join list's elements and print result"
   ]
  },
  {
   "cell_type": "code",
   "execution_count": null,
   "id": "16fabcd9",
   "metadata": {},
   "outputs": [],
   "source": [
    "print(\"----\".join(elements)) # join list's elements and print result"
   ]
  },
  {
   "cell_type": "markdown",
   "id": "3cd2c104",
   "metadata": {},
   "source": [
    "This is a convenient method, but it has a limitation: it requires that the list it is served on input, consisted of lines. If there are other objects among its elements, it breaks."
   ]
  },
  {
   "cell_type": "code",
   "execution_count": null,
   "id": "2b3bff21",
   "metadata": {},
   "outputs": [],
   "source": [
    "numbers = [6, 9, 10] # create the list of int\n",
    "# \", \".join(numbers) # TypeError: sequence item 0: expected str instance, int found"
   ]
  },
  {
   "cell_type": "markdown",
   "id": "4b2fe6cf",
   "metadata": {},
   "source": [
    "This problem can be worked around (we'll talk about `map()` and list comprehensions later), but for now we'll discuss a different approach to list output based on the `print()` function."
   ]
  },
  {
   "cell_type": "markdown",
   "id": "95128d0c",
   "metadata": {},
   "source": [
    "Recall that if you pass a list to the `print` function, then it will print it in square brackets, separated by commas."
   ]
  },
  {
   "cell_type": "code",
   "execution_count": null,
   "id": "745a279e",
   "metadata": {},
   "outputs": [],
   "source": [
    "print(numbers) # print the list"
   ]
  },
  {
   "cell_type": "markdown",
   "id": "1bd592c3",
   "metadata": {},
   "source": [
    "And if you pass individual elements of the list, then it will print them without brackets and separated by a space (generally speaking, by any character - this is configured using the `sep` parameter)."
   ]
  },
  {
   "cell_type": "code",
   "execution_count": null,
   "id": "d6603a3e",
   "metadata": {},
   "outputs": [],
   "source": [
    "print(numbers[0], numbers[1], numbers[2]) # print list items"
   ]
  },
  {
   "cell_type": "markdown",
   "id": "ef02aa6c",
   "metadata": {},
   "source": [
    "The line above gives the result we wanted, but it will only work if there are exactly three elements in the list: if there are more elements, only three will be displayed, if there are less, then an error will occur. Fortunately, Python has a construct that allows you to strip a list by passing all its elements to some function separated by commas. This is done with an asterisk ( * )."
   ]
  },
  {
   "cell_type": "code",
   "execution_count": null,
   "id": "326b4075",
   "metadata": {},
   "outputs": [],
   "source": [
    "print(*numbers) # print the 'stripped' list"
   ]
  },
  {
   "cell_type": "markdown",
   "id": "4eb86a81",
   "metadata": {},
   "source": [
    "The asterisk, as it were, removes the square brackets around the elements of the list. Compare:"
   ]
  },
  {
   "cell_type": "code",
   "execution_count": null,
   "id": "225a8e0e",
   "metadata": {},
   "outputs": [],
   "source": [
    "print(*[5, 8, 9, 11, \"Hello\"]) # print stripped list of integers and strings"
   ]
  },
  {
   "cell_type": "code",
   "execution_count": null,
   "id": "dc493ac9",
   "metadata": {},
   "outputs": [],
   "source": [
    "print(5, 8, 9, 11, \"Hello\") # print some integers and string"
   ]
  },
  {
   "cell_type": "markdown",
   "id": "66ec01a3",
   "metadata": {},
   "source": [
    "If you want to use not a space, but some kind of separator, then this is also possible:"
   ]
  },
  {
   "cell_type": "code",
   "execution_count": null,
   "id": "702de9e5",
   "metadata": {},
   "outputs": [],
   "source": [
    "print(*numbers, sep = ', ') # use custom separator and print stripped list"
   ]
  },
  {
   "cell_type": "markdown",
   "id": "07e6405b",
   "metadata": {},
   "source": [
    "### Strings and slices"
   ]
  },
  {
   "cell_type": "markdown",
   "id": "e80689fe",
   "metadata": {},
   "source": [
    "Strings can behave almost like lists. For example, you can access individual elements of a string (individual characters) or make slices."
   ]
  },
  {
   "cell_type": "code",
   "execution_count": null,
   "id": "4a726824",
   "metadata": {},
   "outputs": [],
   "source": [
    "s = \"This is a test\" # create the string"
   ]
  },
  {
   "cell_type": "code",
   "execution_count": null,
   "id": "566f6f7d",
   "metadata": {},
   "outputs": [],
   "source": [
    "s[6] # get specific character"
   ]
  },
  {
   "cell_type": "code",
   "execution_count": null,
   "id": "552eb7b0",
   "metadata": {},
   "outputs": [],
   "source": [
    "s[5] # get specific character again"
   ]
  },
  {
   "cell_type": "code",
   "execution_count": null,
   "id": "940c7430",
   "metadata": {},
   "outputs": [],
   "source": [
    "s[3:8] # make slice"
   ]
  },
  {
   "cell_type": "markdown",
   "id": "f16aed67",
   "metadata": {},
   "source": [
    "Later we will talk more about strings (this is a separate big story)."
   ]
  },
  {
   "cell_type": "markdown",
   "id": "7a4f3e2b",
   "metadata": {},
   "source": [
    "### Algorithms with loops"
   ]
  },
  {
   "cell_type": "markdown",
   "id": "9f1ca1b6",
   "metadata": {},
   "source": [
    "Consider an example of an algorithm that uses a loop."
   ]
  },
  {
   "cell_type": "markdown",
   "id": "b966b03b",
   "metadata": {},
   "source": [
    "Recall how last time we looked for Fibonacci numbers."
   ]
  },
  {
   "cell_type": "markdown",
   "id": "a2bd5316",
   "metadata": {},
   "source": [
    "First, we perform *initialization* - we set the initial values  of the variables that we will need in the future. Initially, we know the values of the first two Fibonacci numbers (these are units); we will write them into variables $a$ and $b$ in the future we will store the next two found Fibonacci numbers needed to find the next number."
   ]
  },
  {
   "cell_type": "code",
   "execution_count": null,
   "id": "53c30b72",
   "metadata": {},
   "outputs": [],
   "source": [
    "a = 1 # first number\n",
    "b = 1 # second number"
   ]
  },
  {
   "cell_type": "markdown",
   "id": "7742d8da",
   "metadata": {},
   "source": [
    "Then we write code that moves to the next number. We will execute it several times, each time getting a new Fibonacci number."
   ]
  },
  {
   "cell_type": "code",
   "execution_count": null,
   "id": "6646d56d",
   "metadata": {},
   "outputs": [],
   "source": [
    "c = a + b # find next number\n",
    "a = b # swap\n",
    "b = c # store performed number\n",
    "print(b) # print number"
   ]
  },
  {
   "cell_type": "markdown",
   "id": "6772cc9a",
   "metadata": {},
   "source": [
    "By executing this cell several times, we will get consecutive Fibonacci numbers."
   ]
  },
  {
   "cell_type": "markdown",
   "id": "e8f2fbdd",
   "metadata": {},
   "source": [
    "This approach works pretty well, but if we needed to find the 115th Fibonacci number, we would be tormented by restarting the cell. Instead, we use a `for` loop, which will automatically execute the piece of code that calculates the next number, as many times as we need. For example, 10:"
   ]
  },
  {
   "cell_type": "code",
   "execution_count": null,
   "id": "1d71861e",
   "metadata": {},
   "outputs": [],
   "source": [
    "a = 1 # first number\n",
    "b = 1 # second number\n",
    "for i in range(10): # iterate the range\n",
    "    c = a + b # find next number\n",
    "    a = b # swap\n",
    "    b = c # store performed number\n",
    "    print(i, c) # print index and number"
   ]
  },
  {
   "cell_type": "markdown",
   "id": "7191d69a",
   "metadata": {},
   "source": [
    "Another example: let's say we would like not to display the found Fibonacci numbers on the screen, but write them to some list. To do this, we slightly modify the code above: instead of the command `print()` you need to substitute a command that will add the found number to some list. However, in order to have something to add, this list must be created in advance. Initially, it can be empty - such a list is indicated by empty square brackets"
   ]
  },
  {
   "cell_type": "code",
   "execution_count": null,
   "id": "9618547b",
   "metadata": {},
   "outputs": [],
   "source": [
    "a = 1 # first number\n",
    "b = 1 # second number\n",
    "fib = [] # create empty list\n",
    "for i in range(25): # iterate the range from 0 to 24\n",
    "    c = a + b # find next number\n",
    "    a = b # swap\n",
    "    b = c # store performed number\n",
    "    fib.append(b) # append perfomed number to list\n",
    "\n",
    "print(fib) # print the list"
   ]
  },
  {
   "cell_type": "markdown",
   "id": "3838fd65",
   "metadata": {},
   "source": [
    "## Checking conditions"
   ]
  },
  {
   "cell_type": "markdown",
   "id": "b7957d08",
   "metadata": {},
   "source": [
    "During the execution of the program, sometimes it is required, depending on some conditions, to execute one or another piece of code. For example, if the user entered the wrong data that was asked of him (they wanted a positive number, but received a negative one), then you need to display an error and ask to enter the data again. The solution to this problem is divided into several steps: first you need to check a certain condition, and then, depending on the result of this check, choose which code to execute. Let's start by checking the conditions."
   ]
  },
  {
   "cell_type": "code",
   "execution_count": null,
   "id": "a17fe4d0",
   "metadata": {},
   "outputs": [],
   "source": [
    "6 < 8 # does what you see"
   ]
  },
  {
   "cell_type": "markdown",
   "id": "bf6397d7",
   "metadata": {},
   "source": [
    "Here we asked \"Is it true that 6 is less than 8?\". “Indeed so,” replied Python in his overseas language. The word True , which he gave out, is not just a word meaning \"true\", but a special boolean value. It is also called \"Boolean\" (after one of the founders of mathematical logic, [George Boole]([https://ru.wikipedia.org/wiki/%D0%91%D1%83%D0%BB%D1%8C,_%D0%94%D0%B6%D0%BE%D1%80%D)]. It comes in only two forms: either true ( `True` ) or false ( `False` ). There is no third."
   ]
  },
  {
   "cell_type": "code",
   "execution_count": null,
   "id": "ef3522e6",
   "metadata": {},
   "outputs": [],
   "source": [
    "8 > 9 # there too"
   ]
  },
  {
   "cell_type": "markdown",
   "id": "b57d2c45",
   "metadata": {},
   "source": [
    "The result of the check can be written to a variable."
   ]
  },
  {
   "cell_type": "code",
   "execution_count": null,
   "id": "f154e942",
   "metadata": {},
   "outputs": [],
   "source": [
    "condition = 6 < 8 # store the result into the variable"
   ]
  },
  {
   "cell_type": "code",
   "execution_count": null,
   "id": "f1e15a5f",
   "metadata": {},
   "outputs": [],
   "source": [
    "condition # get the storable value"
   ]
  },
  {
   "cell_type": "markdown",
   "id": "8efc0dc2",
   "metadata": {},
   "source": [
    "The `condition` variable is said to be a boolean (`bool`) now."
   ]
  },
  {
   "cell_type": "code",
   "execution_count": null,
   "id": "13692992",
   "metadata": {},
   "outputs": [],
   "source": [
    "type(condition)"
   ]
  },
  {
   "cell_type": "markdown",
   "id": "0b3afdb2",
   "metadata": {},
   "source": [
    "You can check if two values are equal. Is it true that 7 equals 7?"
   ]
  },
  {
   "cell_type": "code",
   "execution_count": null,
   "id": "ad29ae85",
   "metadata": {},
   "outputs": [],
   "source": [
    "7 == 7 # compare number to itself"
   ]
  },
  {
   "cell_type": "markdown",
   "id": "77b1289e",
   "metadata": {},
   "source": [
    "Please note that you need to write the singularity symbol twice here, because one equals sign is an assignment operation (“assign what is on the right, what is on the left”), and the check power operation is a completely different thing. For example."
   ]
  },
  {
   "cell_type": "code",
   "execution_count": null,
   "id": "5f335110",
   "metadata": {},
   "outputs": [],
   "source": [
    "a = 5"
   ]
  },
  {
   "cell_type": "markdown",
   "id": "21fa3f7c",
   "metadata": {},
   "source": [
    "We put the number $5$ in `a`. This operation did not return anything."
   ]
  },
  {
   "cell_type": "code",
   "execution_count": null,
   "id": "ab4541ba",
   "metadata": {},
   "outputs": [],
   "source": [
    "a = 7"
   ]
  },
  {
   "cell_type": "markdown",
   "id": "acde5578",
   "metadata": {},
   "source": [
    "Now put the number $7$ in `a`."
   ]
  },
  {
   "cell_type": "code",
   "execution_count": null,
   "id": "6ab70f7a",
   "metadata": {},
   "outputs": [],
   "source": [
    "a == 5"
   ]
  },
  {
   "cell_type": "markdown",
   "id": "6a97c236",
   "metadata": {},
   "source": [
    "Now they asked whether it is true that a equals five. Got `False`."
   ]
  },
  {
   "cell_type": "markdown",
   "id": "4be466d1",
   "metadata": {},
   "source": [
    "I must say that the comparison works in a reasonable enough way. For example, the number $7$ and the number $7.0$ are, strictly speaking, different objects (the first is an integer, the second is a floating-point number), but it is clear that as numbers they are the same object. So the comparison will return `True`."
   ]
  },
  {
   "cell_type": "code",
   "execution_count": null,
   "id": "6212c70b",
   "metadata": {},
   "outputs": [],
   "source": [
    "7 == 7.0"
   ]
  },
  {
   "cell_type": "markdown",
   "id": "068af2ba",
   "metadata": {},
   "source": [
    "## `if` operator"
   ]
  },
  {
   "cell_type": "code",
   "execution_count": null,
   "id": "48a5481a",
   "metadata": {},
   "outputs": [],
   "source": [
    "a = int(input(\"Enter positiv number: \")) # get integral from user\n",
    "if a < 0: # if the number greater then 0 ...\n",
    "    # ... then print error messages\n",
    "    print(\"Error!\")\n",
    "    print(\"Number isn't positiv!\")\n",
    "print(\"You entered\", a) # print the number anyway"
   ]
  },
  {
   "cell_type": "markdown",
   "id": "fc5a7c22",
   "metadata": {},
   "source": [
    "You need to pay attention to several things: firstly, after `if`, a condition is indicated, and after the condition, a colon is required (as in loops), then there is a block of commands that are executed if the condition is true (that is, it is `True`). As with loops, this block of commands must be indented. Commands that are not included in the block (in this case, this is the last line) are executed anyway."
   ]
  },
  {
   "cell_type": "markdown",
   "id": "df8f0d3b",
   "metadata": {},
   "source": [
    "Let's say we want to process separately both situations: when a condition is met and when it is not met. To do this, you need to use the `else` keyword."
   ]
  },
  {
   "cell_type": "code",
   "execution_count": null,
   "id": "37d6d52f",
   "metadata": {},
   "outputs": [],
   "source": [
    "a = int(input(\"Endter positiv number: \")) # get integral from user\n",
    "if a < 0: # if the given number greater then 0 ...\n",
    "    # ... then print error messages ...\n",
    "    print(\"Error!\")\n",
    "    print(\"Number isn't positiv!\")\n",
    "else:\n",
    "    # ... otherwise praise user\n",
    "    print(\"All right!\")\n",
    "    print(\"You entered positiv number!\")\n",
    "print(\"You entered\", a) # print the number anyway"
   ]
  },
  {
   "cell_type": "markdown",
   "id": "e8975dc4",
   "metadata": {},
   "source": [
    "The `if-else` construct works as an alternative: either one piece of code is executed (after if - if the condition is true), or another (after `else` - if it is false). Sometimes you need to check multiple conditions in a row."
   ]
  },
  {
   "cell_type": "code",
   "execution_count": null,
   "id": "a869a57d",
   "metadata": {},
   "outputs": [],
   "source": [
    "a = int(input(\"Enter some number: \")) # get integral from user\n",
    "if a > 100: # if the given number greater then 0 ...\n",
    "    print(\"It's too big number!\") # print message number 1\n",
    "elif a > 10: # ... in case a greater then 10 ...\n",
    "    print(\"It's big number.\") # print message number 2\n",
    "else: # ... otherwise print message number 3\n",
    "    print(\"It's small number.\")"
   ]
  },
  {
   "cell_type": "markdown",
   "id": "8de7bab2",
   "metadata": {},
   "source": [
    "The `elif` keyword is used here, which is a concatenation of `else` and `if` . Conditions are checked in turn, starting from the first; as soon as one of the conditions is true, the corresponding block is executed and the other conditions are not checked."
   ]
  },
  {
   "cell_type": "markdown",
   "id": "37aa0b03",
   "metadata": {},
   "source": [
    "## Complex conditions"
   ]
  },
  {
   "cell_type": "markdown",
   "id": "7323b1b4",
   "metadata": {},
   "source": [
    "Let's say we need to check the fulfillment of several conditions. Let's say we want to get a number from $0$ to $100$ - numbers less than $0$ or more than $100$ do not suit us. This could be done with multiple nested `if` statements like so."
   ]
  },
  {
   "cell_type": "code",
   "execution_count": null,
   "id": "8246c5fe",
   "metadata": {},
   "outputs": [],
   "source": [
    "a = int(input(\"Please enter number from 0 to 100: \")) # get integral from user\n",
    "if a <= 100: # if given number less or equal to 100 ...\n",
    "    if a >= 0: # ... and if a is positiv ...\n",
    "        print(\"Thank you, I like your number.\") # print first message\n",
    "    else: # ... otherwise print second message ...\n",
    "        print(\"You made a mistake, it's not a number from 0 to 100.\")\n",
    "else: # ... otherwise print third message\n",
    "    print(\"You made a mistake, it's not a number from 0 to 100.\")"
   ]
  },
  {
   "cell_type": "markdown",
   "id": "2f682d68",
   "metadata": {},
   "source": [
    "This code is quite cumbersome, the line with the error message had to be copied twice. Not very good. It turns out that the same functionality can be implemented in a simpler way."
   ]
  },
  {
   "cell_type": "code",
   "execution_count": null,
   "id": "a4e46720",
   "metadata": {},
   "outputs": [],
   "source": [
    "a = int(input(\"Please enter number from 0 to 100: \")) # get integral from user\n",
    "if a <= 100 and a >= 0: # if given number positiv and less then 100 ...\n",
    "    print(\"Thank you, I like your number.\") # ... then print first message ...\n",
    "else: # ... otherwise print second message\n",
    "    print(\"You made a mistake, it's not a number from 0 to 100.\")"
   ]
  },
  {
   "cell_type": "markdown",
   "id": "9a44d379",
   "metadata": {},
   "source": [
    "This uses the `and` keyword, which stands for a *logical AND* operation. It does the following: tests the left condition (in this case, `a <= 100`), tests the right condition (`a >= 100`), and if both of these conditions are true (that is, they are `True`), then the result of executing and turns out to be `True`; if at least one of them is not executed (that is, it has the value `False`), then the result of executing and is `False`. Thus, we can check exactly the condition we are interested in."
   ]
  },
  {
   "cell_type": "markdown",
   "id": "d34550e3",
   "metadata": {},
   "source": [
    "Strictly speaking, if the left argument of and turns out to be false, then the right one is not even evaluated: why waste time if it is already clear that you need to return false?"
   ]
  },
  {
   "cell_type": "markdown",
   "id": "d4a67baa",
   "metadata": {},
   "source": [
    "One could rewrite this code in a different way, using a logical OR (`or`):"
   ]
  },
  {
   "cell_type": "code",
   "execution_count": null,
   "id": "26950a36",
   "metadata": {},
   "outputs": [],
   "source": [
    "a = int(input(\"Please enter number from 0 to 100: \")) # get integral from user\n",
    "if a > 100 or a < 0: # if given number greater then 100 or less then 0 ...\n",
    "    print(\"You made a mistake, it's not a number from 0 to 100.\") # ... then print first message ... \n",
    "else:\n",
    "    print(\"Thank you, I like your number.\") # ... otherwise print second message"
   ]
  },
  {
   "cell_type": "markdown",
   "id": "082f8e6b",
   "metadata": {},
   "source": [
    "The result of executing `or` is true if at least one argument is true. Finally, there is a third logical operator - this is negation (`not`). It has only one argument and returns true if that argument is false and vice versa."
   ]
  },
  {
   "cell_type": "code",
   "execution_count": null,
   "id": "fdb3a9cb",
   "metadata": {},
   "outputs": [],
   "source": [
    "a = int(input(\"Please enter number from 0 to 100: \")) # get integral from user\n",
    "if not (a <= 100 and a >= 0): # if given number negativ or greater then 100 ...\n",
    "    print(\"You made a mistake, it's not a number from 0 to 100.\") # ... then print message ...\n",
    "else:\n",
    "    print(\"Thank you, I like your number.\") # ... else print another message"
   ]
  },
  {
   "cell_type": "markdown",
   "id": "eb6e3b7c",
   "metadata": {},
   "source": [
    "You can test how boolean commands work by simply substituting `True` or `False` as arguments:"
   ]
  },
  {
   "cell_type": "code",
   "execution_count": null,
   "id": "c7412720",
   "metadata": {},
   "outputs": [],
   "source": [
    "True or False # Yes or No"
   ]
  },
  {
   "cell_type": "code",
   "execution_count": null,
   "id": "e2857d37",
   "metadata": {},
   "outputs": [],
   "source": [
    "False and True # result is False"
   ]
  },
  {
   "cell_type": "markdown",
   "id": "d16b3437",
   "metadata": {},
   "source": [
    "To be or not to be?"
   ]
  },
  {
   "cell_type": "code",
   "execution_count": null,
   "id": "ab26404b",
   "metadata": {},
   "outputs": [],
   "source": [
    "to_be = False\n",
    "to_be or not to_be"
   ]
  },
  {
   "cell_type": "markdown",
   "id": "854b76d7",
   "metadata": {},
   "source": [
    "What happens if `to_be` is set to `True`?"
   ]
  },
  {
   "cell_type": "markdown",
   "id": "7a73a2da",
   "metadata": {},
   "source": [
    "## `while` loop"
   ]
  },
  {
   "cell_type": "code",
   "execution_count": null,
   "id": "94bb08c9",
   "metadata": {},
   "outputs": [],
   "source": [
    "a = int(input(\"Enter number from 0 to 100: \")) # get integral from user\n",
    "# get integer from user while a will not be within the specified boundaries\n",
    "while a > 100 or a < 0:\n",
    "    print(\"Wrong! It's not a number between 0 and 100.\")\n",
    "    a = int(input(\"Enter number from 0 to 100: \"))\n",
    "print(\"All right.\") # print message"
   ]
  },
  {
   "cell_type": "markdown",
   "id": "e45a4721",
   "metadata": {},
   "source": [
    "Another example: password checking."
   ]
  },
  {
   "cell_type": "code",
   "execution_count": null,
   "id": "8473de16",
   "metadata": {},
   "outputs": [],
   "source": [
    "correct_passwd = ';ugliugliug' # set up the right password\n",
    "passwd = input(\"Please, enter password: \") # read password from user\n",
    "# do while given from user password not equal to right password\n",
    "while passwd != correct_passwd:\n",
    "    print(\"Access denied\") # print error message\n",
    "    passwd = input(\"Please, enter password: \")\n",
    "print(\"Access granted\") # print message"
   ]
  },
  {
   "cell_type": "markdown",
   "id": "81d741b5",
   "metadata": {},
   "source": [
    "This code is not very elegant because we have to write the string twice with `input()`. The situation in which we have to copy some lines of code usually means that a design error has been made. You can do this more gracefully with the `break` command - it allows you to exit the loop. The following example also demonstrates an infinite loop: in principle, `while True`: should be executed as long as `True` is `True`, that is, forever. But we will exit early with `break`."
   ]
  },
  {
   "cell_type": "code",
   "execution_count": null,
   "id": "f87413b0",
   "metadata": {},
   "outputs": [],
   "source": [
    "correct_passwd = ';ugliugliug' # set up the right password\n",
    "# do forever\n",
    "while True:\n",
    "    passwd = input(\"Please, enter password: \") # get password from user\n",
    "    if passwd == correct_passwd: # if passsword is rigth ...\n",
    "        print(\"Access granted\") # ... then praise the user ...\n",
    "        break # break loop\n",
    "    else:\n",
    "        print(\"Access denied\") # ... otherwise scold the user"
   ]
  },
  {
   "cell_type": "markdown",
   "id": "7b61b63e",
   "metadata": {},
   "source": [
    "The `break` command can be used to exit any loop. Here is an example for a `for` loop:"
   ]
  },
  {
   "cell_type": "code",
   "execution_count": null,
   "id": "6d469fb1",
   "metadata": {},
   "outputs": [],
   "source": [
    "numbers = [6, 8, 9, 6, -7, 9] # create the list of numbers\n",
    "for i in numbers: # iterate the list\n",
    "    if i < 0:\n",
    "        print(\"Negative number detected!\") # do if number is negativ\n",
    "        break\n",
    "    print(i + 1) # print sum of numbers"
   ]
  },
  {
   "cell_type": "markdown",
   "id": "66a0b51a",
   "metadata": {},
   "source": [
    "## List item numbering"
   ]
  },
  {
   "cell_type": "markdown",
   "id": "09322acc",
   "metadata": {},
   "source": [
    "As a small digression, let's discuss the following problem: there is a list, you need to display its elements and their indices. This problem could be solved like this:"
   ]
  },
  {
   "cell_type": "code",
   "execution_count": null,
   "id": "0a02e538",
   "metadata": {},
   "outputs": [],
   "source": [
    "numbers = [7, 8, 9, 43] # create the list\n",
    "i = 0 # counter\n",
    "for n in numbers: # iterate the list\n",
    "    print(i, n) # print index and number\n",
    "    i += 1 # it's equivalent to i = i + 1"
   ]
  },
  {
   "cell_type": "markdown",
   "id": "0969f932",
   "metadata": {},
   "source": [
    "Not the most elegant solution - you have to enter some kind of variable `i`, initialize it before entering the loop and remember to add one to it inside the loop"
   ]
  },
  {
   "cell_type": "markdown",
   "id": "c69c6eaf",
   "metadata": {},
   "source": [
    "Another variant:"
   ]
  },
  {
   "cell_type": "code",
   "execution_count": null,
   "id": "c1fcc6f4",
   "metadata": {},
   "outputs": [],
   "source": [
    "numbers = [7, 8, 9, 43] # create the list of numbers\n",
    "for i in range(len(numbers)): # for each number in range\n",
    "    print (i, numbers[i]) # print index and number"
   ]
  },
  {
   "cell_type": "markdown",
   "id": "e2d2aaf6",
   "metadata": {},
   "source": [
    "This is also not the height of elegance: here we have to write `numbers[i]` every time and in general understandability suffers: looking at the `for` loop, it is not clear that we are going to iterate over the elements of the numbers list."
   ]
  },
  {
   "cell_type": "markdown",
   "id": "f0a56b2c",
   "metadata": {},
   "source": [
    "The correct Python approach looks like this:"
   ]
  },
  {
   "cell_type": "code",
   "execution_count": null,
   "id": "dc6c39da",
   "metadata": {},
   "outputs": [],
   "source": [
    "numbers = [7, 8, 9, 43] # create the list\n",
    "for i, n in enumerate(numbers, 2): # iterate the enumeration\n",
    "    print(i,n) # print index and number"
   ]
  },
  {
   "cell_type": "markdown",
   "id": "27497c63",
   "metadata": {},
   "source": [
    "What happened here. The main magic lies in the `enumerate()` command. Let's see how it works:"
   ]
  },
  {
   "cell_type": "code",
   "execution_count": null,
   "id": "a862b9ba",
   "metadata": {},
   "outputs": [],
   "source": [
    " enum = list(enumerate(numbers)) # create enum from the list"
   ]
  },
  {
   "cell_type": "code",
   "execution_count": null,
   "id": "887b4f7c",
   "metadata": {},
   "outputs": [],
   "source": [
    "enum # print enum"
   ]
  },
  {
   "cell_type": "markdown",
   "id": "4e8f13fe",
   "metadata": {},
   "source": [
    "As a result of executing `enumerate`, a thing is returned that behaves like a list, the elements of which are pairs of numbers (actually, these are tuples, `tuple`, that is, immutable lists). In each pair, the first number is the index, and the second is the element of the original list."
   ]
  },
  {
   "cell_type": "markdown",
   "id": "a42596a6",
   "metadata": {},
   "source": [
    "Further, when executing the `for` loop, the list assignment mechanism is used. It works like this."
   ]
  },
  {
   "cell_type": "code",
   "execution_count": null,
   "id": "37d6f2fb",
   "metadata": {},
   "outputs": [],
   "source": [
    "a, b = (7, 9) # assign values"
   ]
  },
  {
   "cell_type": "code",
   "execution_count": null,
   "id": "b5d67d23",
   "metadata": {},
   "outputs": [],
   "source": [
    "print(a) # print value of a\n",
    "print(b) # print value of b"
   ]
  },
  {
   "cell_type": "markdown",
   "id": "294b576e",
   "metadata": {},
   "source": [
    "If on the left side of the equal sign there are several variables separated by commas, and on the right side there is some object that behaves like a list, and the number of its elements is equal to the number of variables, then the assignment goes element by element: the first element of the list into the first variable, the second into second, etc."
   ]
  },
  {
   "cell_type": "code",
   "execution_count": null,
   "id": "cdaba5dc",
   "metadata": {},
   "outputs": [],
   "source": [
    "a, b, c = (1, 2, 3) # assign value\n",
    "print(c) # print value of the third variable"
   ]
  },
  {
   "cell_type": "markdown",
   "id": "935d9b94",
   "metadata": {},
   "source": [
    "Now notice that in the `for` loop, we have two variables specified as a loop variable (separated by commas). What happens when we get into the loop `for` the first time? for will take the first element from enumerate(`numbers`). This is a couple of numbers:"
   ]
  },
  {
   "cell_type": "code",
   "execution_count": null,
   "id": "981a539b",
   "metadata": {},
   "outputs": [],
   "source": [
    "enum[0] # print first pair"
   ]
  },
  {
   "cell_type": "markdown",
   "id": "32fe4271",
   "metadata": {},
   "source": [
    "Now he will equate this pair of numbers with a pair of variables: `i` and `n`:"
   ]
  },
  {
   "cell_type": "code",
   "execution_count": null,
   "id": "270f97e2",
   "metadata": {},
   "outputs": [],
   "source": [
    "i, n = enum[0] # assign value of a pair"
   ]
  },
  {
   "cell_type": "markdown",
   "id": "eda88586",
   "metadata": {},
   "source": [
    "Now `i` contains $0$ (the index of the first element of numbers, and `n` contains the first element of numbers itself. And so on, at each step, i will have the corresponding index, and `n` will have the corresponding number."
   ]
  },
  {
   "cell_type": "markdown",
   "id": "cfe46b0e",
   "metadata": {},
   "source": [
    "In this case, the result is much more elegant than the previous ones: there is no need to somehow explicitly describe what is happening with `i`, and the meaning of what is happening is clear when looking at the line with `for`."
   ]
  },
  {
   "cell_type": "markdown",
   "id": "ef254814",
   "metadata": {},
   "source": [
    "That's all."
   ]
  }
 ],
 "metadata": {
  "kernelspec": {
   "display_name": "Python 3 (ipykernel)",
   "language": "python",
   "name": "python3"
  },
  "language_info": {
   "codemirror_mode": {
    "name": "ipython",
    "version": 3
   },
   "file_extension": ".py",
   "mimetype": "text/x-python",
   "name": "python",
   "nbconvert_exporter": "python",
   "pygments_lexer": "ipython3",
   "version": "3.10.6"
  }
 },
 "nbformat": 4,
 "nbformat_minor": 5
}
