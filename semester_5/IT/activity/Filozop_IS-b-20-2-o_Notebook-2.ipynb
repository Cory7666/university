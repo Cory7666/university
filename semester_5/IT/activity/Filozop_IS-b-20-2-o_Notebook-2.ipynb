{
 "cells": [
  {
   "cell_type": "markdown",
   "id": "f0693cd6",
   "metadata": {},
   "source": [
    "# Notepad №2. Information technology."
   ]
  },
  {
   "cell_type": "markdown",
   "id": "e431d555",
   "metadata": {},
   "source": [
    "by Alex Filzop from IS/b-20-2-o"
   ]
  },
  {
   "cell_type": "markdown",
   "id": "0189f125",
   "metadata": {},
   "source": [
    "## List and utils"
   ]
  },
  {
   "cell_type": "markdown",
   "id": "815633e8",
   "metadata": {},
   "source": [
    "A list is a data structure that contains many elements."
   ]
  },
  {
   "cell_type": "code",
   "execution_count": 1,
   "id": "211c9fd2",
   "metadata": {},
   "outputs": [],
   "source": [
    "numbers = [4, 8, 9, 2, 6] # create the list of numbers"
   ]
  },
  {
   "cell_type": "code",
   "execution_count": 2,
   "id": "a9fce198",
   "metadata": {},
   "outputs": [
    {
     "data": {
      "text/plain": [
       "[4, 8, 9, 2, 6]"
      ]
     },
     "execution_count": 2,
     "metadata": {},
     "output_type": "execute_result"
    }
   ],
   "source": [
    "numbers # print the list"
   ]
  },
  {
   "cell_type": "markdown",
   "id": "5daafcb6",
   "metadata": {},
   "source": [
    "Not only numbers can be stored in lists. For example, let's create a list of strings."
   ]
  },
  {
   "cell_type": "code",
   "execution_count": 3,
   "id": "1716430b",
   "metadata": {},
   "outputs": [],
   "source": [
    "strings = [\"Hello\", \"World\", \"Test\"] # create the list of strings"
   ]
  },
  {
   "cell_type": "markdown",
   "id": "ab68824b",
   "metadata": {},
   "source": [
    "The list can store different types of data. For example, strings, integers, floats."
   ]
  },
  {
   "cell_type": "code",
   "execution_count": 4,
   "id": "3b85925b",
   "metadata": {},
   "outputs": [],
   "source": [
    "mixed_list = [\"Hello\", 6, 7.8] # create the list of string and numbers"
   ]
  },
  {
   "cell_type": "markdown",
   "id": "0b6158f8",
   "metadata": {},
   "source": [
    "You can access to specific elements of the list and work with them as with ordinary variables. To select an item, you need to specify its number."
   ]
  },
  {
   "cell_type": "code",
   "execution_count": 5,
   "id": "7b38c277",
   "metadata": {},
   "outputs": [
    {
     "name": "stdout",
     "output_type": "stream",
     "text": [
      "[4, 8, 9, 2, 6]\n",
      "8\n"
     ]
    }
   ],
   "source": [
    "print(numbers) # print whole list\n",
    "print(numbers[1]) # print second element"
   ]
  },
  {
   "cell_type": "markdown",
   "id": "ffa5cb3b",
   "metadata": {},
   "source": [
    "If there are elements of different types in the list, they do not \"interfere\" with each other in any way. For example, the presence of strings in the list does not turn other elements of this list into strings."
   ]
  },
  {
   "cell_type": "code",
   "execution_count": 6,
   "id": "d55c9d2b",
   "metadata": {},
   "outputs": [
    {
     "name": "stdout",
     "output_type": "stream",
     "text": [
      "['Hello', 6, 7.8]\n",
      "11.8\n"
     ]
    }
   ],
   "source": [
    "print(mixed_list) # print whole list\n",
    "print(mixed_list[2]+4) # print sum"
   ]
  },
  {
   "cell_type": "markdown",
   "id": "6e5af2d6",
   "metadata": {},
   "source": [
    "The list items can be changed in the same way as the values of ordinary variables."
   ]
  },
  {
   "cell_type": "code",
   "execution_count": 7,
   "id": "104a6dfe",
   "metadata": {},
   "outputs": [
    {
     "data": {
      "text/plain": [
       "[4, 8, 9, 2, 6]"
      ]
     },
     "execution_count": 7,
     "metadata": {},
     "output_type": "execute_result"
    }
   ],
   "source": [
    "numbers # print list"
   ]
  },
  {
   "cell_type": "code",
   "execution_count": 8,
   "id": "6a836500",
   "metadata": {},
   "outputs": [
    {
     "data": {
      "text/plain": [
       "[4, 222, 9, 2, 6]"
      ]
     },
     "execution_count": 8,
     "metadata": {},
     "output_type": "execute_result"
    }
   ],
   "source": [
    "numbers[1]=222 # assign new value to the second element\n",
    "numbers # print list"
   ]
  },
  {
   "cell_type": "markdown",
   "id": "ee38a2ad",
   "metadata": {},
   "source": [
    "Python lists are based on standard arrays of C language and have their properties in terms of performance: in particular, accessing an element by its index has complexity $O(1)$, that is, it is not a massive operation."
   ]
  },
  {
   "cell_type": "markdown",
   "id": "c6c3ffb6",
   "metadata": {},
   "source": [
    "To find out the length of the list, you can use the len function."
   ]
  },
  {
   "cell_type": "code",
   "execution_count": 9,
   "id": "741faa2f",
   "metadata": {},
   "outputs": [
    {
     "data": {
      "text/plain": [
       "5"
      ]
     },
     "execution_count": 9,
     "metadata": {},
     "output_type": "execute_result"
    }
   ],
   "source": [
    "len(numbers) # get length of list"
   ]
  },
  {
   "cell_type": "markdown",
   "id": "08a170b5",
   "metadata": {},
   "source": [
    "Note that this is not the index of the last element, but the number of elements. If you need to get the last element, then its index will be $len(numbers) - 1$. But in Python, it is much easier to access the elements of the list, counting them \"from the end\".:"
   ]
  },
  {
   "cell_type": "code",
   "execution_count": 10,
   "id": "dd367d7c",
   "metadata": {},
   "outputs": [
    {
     "data": {
      "text/plain": [
       "5"
      ]
     },
     "execution_count": 10,
     "metadata": {},
     "output_type": "execute_result"
    }
   ],
   "source": [
    "numbers = [4, 8, 2, 5] # create new list\n",
    "numbers[-1] # get first element from end"
   ]
  },
  {
   "cell_type": "code",
   "execution_count": 11,
   "id": "98b9f496",
   "metadata": {},
   "outputs": [
    {
     "data": {
      "text/plain": [
       "2"
      ]
     },
     "execution_count": 11,
     "metadata": {},
     "output_type": "execute_result"
    }
   ],
   "source": [
    "numbers[-2] # get second element from end"
   ]
  },
  {
   "cell_type": "markdown",
   "id": "0cd03ab8",
   "metadata": {},
   "source": [
    "But if you try to access an element with a non-existent index, you will get an error."
   ]
  },
  {
   "cell_type": "code",
   "execution_count": 12,
   "id": "e09d5811",
   "metadata": {},
   "outputs": [
    {
     "ename": "IndexError",
     "evalue": "list assignment index out of range",
     "output_type": "error",
     "traceback": [
      "\u001b[0;31m---------------------------------------------------------------------------\u001b[0m",
      "\u001b[0;31mIndexError\u001b[0m                                Traceback (most recent call last)",
      "Cell \u001b[0;32mIn [12], line 1\u001b[0m\n\u001b[0;32m----> 1\u001b[0m \u001b[43mnumbers\u001b[49m\u001b[43m[\u001b[49m\u001b[38;5;241;43m5\u001b[39;49m\u001b[43m]\u001b[49m \u001b[38;5;241m=\u001b[39m \u001b[38;5;241m100\u001b[39m\n",
      "\u001b[0;31mIndexError\u001b[0m: list assignment index out of range"
     ]
    }
   ],
   "source": [
    "numbers[5] = 100 # IndexError: list assignment index out of range"
   ]
  },
  {
   "cell_type": "markdown",
   "id": "9fc057cb",
   "metadata": {},
   "source": [
    "And you can add elements to the end:"
   ]
  },
  {
   "cell_type": "code",
   "execution_count": 13,
   "id": "f0238607",
   "metadata": {},
   "outputs": [
    {
     "name": "stdout",
     "output_type": "stream",
     "text": [
      "[7, 6, 2]\n",
      "[7, 6, 2, 777]\n"
     ]
    }
   ],
   "source": [
    "numbers = [7, 6, 2] # create new list\n",
    "print(numbers) # print whole list\n",
    "numbers.append(777) # append new number\n",
    "print(numbers) # print whole list again"
   ]
  },
  {
   "cell_type": "markdown",
   "id": "33733825",
   "metadata": {},
   "source": [
    "The word append is a so—called *method* — a function that \"belongs\" to some object (in this case, a *numbers* object of the *list* type), and does something with this object. Numbers has many methods like any list. You can type *numbers*, press the tab (after the dot), and get a list of available methods. And you can also type $help(list)$ or $help(numbers)$ (in our case) and get a brief description of these methods. For example, this way you can find out that in addition to $append$, lists have an extend method."
   ]
  },
  {
   "cell_type": "code",
   "execution_count": 14,
   "id": "881dfea6",
   "metadata": {},
   "outputs": [
    {
     "name": "stdout",
     "output_type": "stream",
     "text": [
      "[7, 6, 2, 777]\n",
      "[7, 6, 2, 777, 3, 7, 5]\n"
     ]
    }
   ],
   "source": [
    "print(numbers) # print whole list\n",
    "numbers.extend([3, 7, 5]) # add new elements to existen list\n",
    "print(numbers) # print whole list again"
   ]
  },
  {
   "cell_type": "markdown",
   "id": "12a70cf2",
   "metadata": {},
   "source": [
    "The $extend$ method allows you to assign multiple elements to a list at once. It receives a list to be assigned as input: attention to the square brackets inside the round ones when calling this method — they create a new list, which is passed to the extend function. The $append$ and $extend$ methods change the list to which they are applied. Sometimes you need to create a new list instead by combining (concatenating!) the other two. This can also be done."
   ]
  },
  {
   "cell_type": "code",
   "execution_count": 15,
   "id": "7a124411",
   "metadata": {},
   "outputs": [
    {
     "name": "stdout",
     "output_type": "stream",
     "text": [
      "[5, 8, 2, 1, 9, 4]\n"
     ]
    }
   ],
   "source": [
    "first_list = [5, 8, 2] # create fist list\n",
    "second_list = [1, 9, 4] # create second list\n",
    "new_list = first_list + second_list # join two lists\n",
    "print(new_list) # print whole new list"
   ]
  },
  {
   "cell_type": "markdown",
   "id": "14c33719",
   "metadata": {},
   "source": [
    "The plus symbols in this case doesn't mean element-by-element addition (as you might think), but concatenation. The $first_list$ and $second_list$ lists have not changed"
   ]
  },
  {
   "cell_type": "code",
   "execution_count": 16,
   "id": "cf9bddcf",
   "metadata": {},
   "outputs": [
    {
     "name": "stdout",
     "output_type": "stream",
     "text": [
      "[5, 8, 2]\n",
      "[1, 9, 4]\n"
     ]
    }
   ],
   "source": [
    "print(first_list) # print first list\n",
    "print(second_list) # print second list"
   ]
  },
  {
   "cell_type": "markdown",
   "id": "3b3d8c97",
   "metadata": {},
   "source": [
    "You might want to use addition instead of the $extend$ operation."
   ]
  },
  {
   "cell_type": "code",
   "execution_count": 17,
   "id": "aaecc608",
   "metadata": {},
   "outputs": [
    {
     "name": "stdout",
     "output_type": "stream",
     "text": [
      "[7, 6, 2, 777, 3, 7, 5]\n",
      "[7, 6, 2, 777, 3, 7, 5, 2, 6, 9]\n"
     ]
    }
   ],
   "source": [
    "print(numbers) # print list\n",
    "numbers = numbers + [2, 6, 9] # concatenate two lists\n",
    "print(numbers) # print list again"
   ]
  },
  {
   "cell_type": "markdown",
   "id": "bf1fe42a",
   "metadata": {},
   "source": [
    "Generally speaking, this code worked, but it should not be done this way: when performing a concatenation operation, a new list is created, then all elements from $numbers$ are copied into it, then elements from the second list are assigned to them, after which the old numbers is forgotten. If there were a lot of items in $numbers$, copying them to a new list would take a long time. It is much faster to assign elements to a ready-made list."
   ]
  },
  {
   "cell_type": "markdown",
   "id": "08500295",
   "metadata": {},
   "source": [
    "## Slices"
   ]
  },
  {
   "cell_type": "markdown",
   "id": "3d3863b8",
   "metadata": {},
   "source": [
    "Sometimes we don't need the whole list, but a piece of it. It can be obtained by specifying not one number in square brackets, but two, separated by a colon."
   ]
  },
  {
   "cell_type": "code",
   "execution_count": 18,
   "id": "80778c9a",
   "metadata": {},
   "outputs": [
    {
     "name": "stdout",
     "output_type": "stream",
     "text": [
      "[7, 6, 2, 777, 3, 7, 5, 2, 6, 9]\n",
      "[6, 2, 777]\n"
     ]
    }
   ],
   "source": [
    "print(numbers) # print list\n",
    "print(numbers[1:4]) # print slice of the list"
   ]
  },
  {
   "cell_type": "markdown",
   "id": "09a63d7e",
   "metadata": {},
   "source": [
    "This is called *slice*. Note: the left end of the slice is included (the element with index 1 is a six), but the right one is not. It will always be like this. This agreement turns out to be convenient, for example, because it allows you to count the number of elements in a slice — you need to subtract the left one from the right end (in this case $4 - 1 = 3$)."
   ]
  },
  {
   "cell_type": "markdown",
   "id": "b5a16169",
   "metadata": {},
   "source": [
    "If the left element is not specified, then it is considered the beginning of the list, and if the right one is the end."
   ]
  },
  {
   "cell_type": "code",
   "execution_count": 19,
   "id": "4e724075",
   "metadata": {},
   "outputs": [
    {
     "name": "stdout",
     "output_type": "stream",
     "text": [
      "[2, 6, 9]\n",
      "[7, 6, 2, 777, 3, 7, 5]\n"
     ]
    }
   ],
   "source": [
    "print(numbers[7:]) # print slice of list from eighth element\n",
    "print(numbers[:7]) # print slice of list from first to eighth element"
   ]
  },
  {
   "cell_type": "markdown",
   "id": "3d89e14a",
   "metadata": {},
   "source": [
    "The following is always true: a list $numbers$ is the same as $numbers[:k] + numbers[k:]$, where $k$ is any index."
   ]
  },
  {
   "cell_type": "markdown",
   "id": "e12081f1",
   "metadata": {},
   "source": [
    "Slices can be used for assignment."
   ]
  },
  {
   "cell_type": "code",
   "execution_count": 20,
   "id": "65bf3548",
   "metadata": {},
   "outputs": [
    {
     "name": "stdout",
     "output_type": "stream",
     "text": [
      "[8, 9]\n",
      "[5, 55, 77, 10]\n"
     ]
    }
   ],
   "source": [
    "numbers = [5, 8, 9, 10] # create new list\n",
    "print(numbers[1:3]) # print slice\n",
    "numbers[1:3]= [55, 77] # replace values in slice\n",
    "print(numbers) # print list"
   ]
  },
  {
   "cell_type": "markdown",
   "id": "da0969a8",
   "metadata": {},
   "source": [
    "It is not necessary that the list we assign to the slice has the same length as the slice. You can assign a longer list (then the original list will expand), or you can assign a shorter one (then it will narrow). You can use slices to insert multiple items inside a list."
   ]
  },
  {
   "cell_type": "code",
   "execution_count": 21,
   "id": "f0cb730b",
   "metadata": {},
   "outputs": [
    {
     "name": "stdout",
     "output_type": "stream",
     "text": [
      "[]\n",
      "[6, 99, 77, 55, 8, 9]\n"
     ]
    }
   ],
   "source": [
    "numbers = [6, 8, 9] # create new list\n",
    "print(numbers[1:1]) # print empty slice\n",
    "numbers[1:1] = [99, 77, 55] # \n",
    "print(numbers)"
   ]
  },
  {
   "cell_type": "markdown",
   "id": "a58a36f5",
   "metadata": {},
   "source": [
    "To insert some elements inside the list, you need to free up space for it by moving all subsequent elements forward. Python will do this automatically, but it will take time. Therefore, if possible, this should be avoided, especially if you are working with large amounts of data. If you really need to write something to the beginning and end of the list, look at the two-way queue (deque) from the *collections* module."
   ]
  },
  {
   "cell_type": "markdown",
   "id": "010ea3a6",
   "metadata": {},
   "source": [
    "You can delete list items (and anything else) or slices using the $del$."
   ]
  },
  {
   "cell_type": "code",
   "execution_count": 22,
   "id": "41375534",
   "metadata": {},
   "outputs": [
    {
     "name": "stdout",
     "output_type": "stream",
     "text": [
      "[6, 7, 9, 12, 3]\n",
      "[9, 12, 3]\n"
     ]
    }
   ],
   "source": [
    "numbers = [6, 7, 9, 12, 8, 3] # create new list\n",
    "del(numbers[4]) # delete fifth element\n",
    "print(numbers) # print list\n",
    "del(numbers[0:2]) # delete slice\n",
    "print(numbers) # print list again"
   ]
  },
  {
   "cell_type": "markdown",
   "id": "3166981f",
   "metadata": {},
   "source": [
    "## Assigning and copying lists"
   ]
  },
  {
   "cell_type": "markdown",
   "id": "5c5c48a8",
   "metadata": {},
   "source": [
    "Lists can be tricky. Until you understand the contents of this section, your programs will behave in an unpredictable way and you will spend a lot of time debugging them. So now is the time to focus."
   ]
  },
  {
   "cell_type": "code",
   "execution_count": 23,
   "id": "6ad3f5c3",
   "metadata": {},
   "outputs": [],
   "source": [
    "first_list = [5, 8, 9, 'Hello'] # create new list\n",
    "second_list = first_list # assign reference to the list"
   ]
  },
  {
   "cell_type": "code",
   "execution_count": 24,
   "id": "0e2f4a35",
   "metadata": {},
   "outputs": [
    {
     "data": {
      "text/plain": [
       "[5, 8, 9, 'Hello']"
      ]
     },
     "execution_count": 24,
     "metadata": {},
     "output_type": "execute_result"
    }
   ],
   "source": [
    "first_list # print list"
   ]
  },
  {
   "cell_type": "code",
   "execution_count": 25,
   "id": "2ab47ed1",
   "metadata": {},
   "outputs": [
    {
     "data": {
      "text/plain": [
       "[5, 8, 9, 'Hello']"
      ]
     },
     "execution_count": 25,
     "metadata": {},
     "output_type": "execute_result"
    }
   ],
   "source": [
    "second_list # print same list"
   ]
  },
  {
   "cell_type": "markdown",
   "id": "95a0d199",
   "metadata": {},
   "source": [
    "So we created two identical lists. Let's change one of them now:"
   ]
  },
  {
   "cell_type": "code",
   "execution_count": 26,
   "id": "8ce46018",
   "metadata": {},
   "outputs": [
    {
     "data": {
      "text/plain": [
       "[777, 8, 9, 'Hello']"
      ]
     },
     "execution_count": 26,
     "metadata": {},
     "output_type": "execute_result"
    }
   ],
   "source": [
    "second_list[0] = 777 # edit list\n",
    "second_list # print list"
   ]
  },
  {
   "cell_type": "markdown",
   "id": "2ad0b4f7",
   "metadata": {},
   "source": [
    "What do you expect to see in $first_list$?"
   ]
  },
  {
   "cell_type": "code",
   "execution_count": 27,
   "id": "4a6edeb6",
   "metadata": {},
   "outputs": [
    {
     "data": {
      "text/plain": [
       "[777, 8, 9, 'Hello']"
      ]
     },
     "execution_count": 27,
     "metadata": {},
     "output_type": "execute_result"
    }
   ],
   "source": [
    "first_list # print list"
   ]
  },
  {
   "cell_type": "markdown",
   "id": "ae0a6af6",
   "metadata": {},
   "source": [
    "A variable $first_list$ does not store the list itself, but a pointer (reference) to it. When we assign the value of $first_list$ to the new variable $second_list$, we do not copy the list, we copy only the pointer. $second_list$ just became a different name for the same list as $firt_list$. Therefore, changing the $second_list$ elements will change the $first_list$, and vice versa."
   ]
  },
  {
   "cell_type": "markdown",
   "id": "899558f9",
   "metadata": {},
   "source": [
    "To understand what is happening in more detail, let's look at what is happening with our code line by line. To do this, you can use the [Python Tutor service]([http://pythontutor.com]), with which you can visualize the execution of the code. (You can use this site to debug your programs.)"
   ]
  },
  {
   "cell_type": "code",
   "execution_count": 28,
   "id": "cb7a3d4b",
   "metadata": {},
   "outputs": [],
   "source": [
    "# load extension\n",
    "%load_ext tutormagic"
   ]
  },
  {
   "cell_type": "code",
   "execution_count": 29,
   "id": "757407f9",
   "metadata": {},
   "outputs": [
    {
     "data": {
      "text/html": [
       "\n",
       "        <iframe\n",
       "            width=\"100%\"\n",
       "            height=\"350\"\n",
       "            src=\"http://pythontutor.com/iframe-embed.html#code=first_list%20%3D%20%5B5%2C%208%2C%209%2C%20%27Hello%27%5D%0Asecond_list%20%3D%20first_list%0Asecond_list%5B0%5D%20%3D%20777%0A&origin=opt-frontend.js&cumulative=false&heapPrimitives=false&textReferences=false&curInstr=0&&verticalStack=false&py=3&rawInputLstJSON=%5B%5D&codeDivWidth=50%25&codeDivHeight=100%25\"\n",
       "            frameborder=\"0\"\n",
       "            allowfullscreen\n",
       "            \n",
       "        ></iframe>\n",
       "        "
      ],
      "text/plain": [
       "<IPython.lib.display.IFrame at 0x7ffb90442ef0>"
      ]
     },
     "metadata": {},
     "output_type": "display_data"
    }
   ],
   "source": [
    "# enable magic\n",
    "%%tutor --lang python3\n",
    "first_list = [5, 8, 9, 'Hello'] # create the list\n",
    "second_list = first_list # assign reference to the list\n",
    "second_list[0] = 777 # edit first element"
   ]
  },
  {
   "cell_type": "markdown",
   "id": "65290fd6",
   "metadata": {},
   "source": [
    "If we want to create a really new list, that is, copy an existing one, we need to use the $copy()$ method."
   ]
  },
  {
   "cell_type": "code",
   "execution_count": 30,
   "id": "75a7ddf5",
   "metadata": {},
   "outputs": [
    {
     "name": "stdout",
     "output_type": "stream",
     "text": [
      "[6, 9, 2, 5]\n",
      "[100, 9, 2, 5]\n",
      "[6, 9, 2, 5]\n"
     ]
    }
   ],
   "source": [
    "first_list = [6, 9, 2, 5] # create new list\n",
    "third_list = first_list.copy() # create copy of list\n",
    "print(third_list) # print copied list\n",
    "third_list[0] = 100 # edit first element\n",
    "print(third_list) # print third list\n",
    "print(first_list) # print origin list"
   ]
  },
  {
   "cell_type": "markdown",
   "id": "0f73d55a",
   "metadata": {},
   "source": [
    "As you can see, now $first_list$ and $third_list$ behave independently. This code can also be visualized."
   ]
  },
  {
   "cell_type": "code",
   "execution_count": 31,
   "id": "bf4cf371",
   "metadata": {},
   "outputs": [
    {
     "data": {
      "text/html": [
       "\n",
       "        <iframe\n",
       "            width=\"100%\"\n",
       "            height=\"350\"\n",
       "            src=\"http://pythontutor.com/iframe-embed.html#code=first_list%20%3D%20%5B6%2C%209%2C%202%2C%205%5D%0Athird_list%20%3D%20first_list.copy%28%29%0Aprint%28third_list%29%0Athird_list%5B0%5D%20%3D%20100%0Aprint%28third_list%29%0Aprint%28first_list%29%0A&origin=opt-frontend.js&cumulative=false&heapPrimitives=false&textReferences=false&curInstr=0&&verticalStack=false&py=3&rawInputLstJSON=%5B%5D&codeDivWidth=50%25&codeDivHeight=100%25\"\n",
       "            frameborder=\"0\"\n",
       "            allowfullscreen\n",
       "            \n",
       "        ></iframe>\n",
       "        "
      ],
      "text/plain": [
       "<IPython.lib.display.IFrame at 0x7ffb906b2b30>"
      ]
     },
     "metadata": {},
     "output_type": "display_data"
    }
   ],
   "source": [
    "%%tutor --lang python3\n",
    "first_list = [6, 9, 2, 5]\n",
    "third_list = first_list.copy()\n",
    "print(third_list)\n",
    "third_list[0] = 100\n",
    "print(third_list)\n",
    "print(first_list)"
   ]
  },
  {
   "cell_type": "markdown",
   "id": "54c900db",
   "metadata": {},
   "source": [
    "You may also encounter this syntax for copying lists:"
   ]
  },
  {
   "cell_type": "code",
   "execution_count": 32,
   "id": "62a34f6c",
   "metadata": {},
   "outputs": [],
   "source": [
    "first_list = [6, 9, 2, 5] # create new list\n",
    "other_list = first_list[:] # copy list by using slice syntax"
   ]
  },
  {
   "cell_type": "markdown",
   "id": "6816eb08",
   "metadata": {},
   "source": [
    "## $For$ loop"
   ]
  },
  {
   "cell_type": "code",
   "execution_count": 33,
   "id": "ebf7b42f",
   "metadata": {},
   "outputs": [
    {
     "name": "stdout",
     "output_type": "stream",
     "text": [
      "5\n",
      "10\n",
      "2\n",
      "6\n",
      "Вот и всё\n",
      "[4, 9, 1, 5]\n"
     ]
    }
   ],
   "source": [
    "numbers = [4, 9, 1, 5] # create new list\n",
    "for x in numbers: # iterate the list\n",
    "    y = x + 1 # persorm calculation and store result\n",
    "    print(y) # print result\n",
    "print(\"Вот и всё\") # print message\n",
    "print(numbers) # print the list"
   ]
  },
  {
   "cell_type": "markdown",
   "id": "87235850",
   "metadata": {},
   "source": [
    "The indentation marks the body of the loop, which in this case includes two commands."
   ]
  },
  {
   "cell_type": "markdown",
   "id": "02051941",
   "metadata": {},
   "source": [
    "You can use *Python Tutor* and visualize this process."
   ]
  },
  {
   "cell_type": "code",
   "execution_count": 34,
   "id": "7ccd9b94",
   "metadata": {},
   "outputs": [
    {
     "data": {
      "text/html": [
       "\n",
       "        <iframe\n",
       "            width=\"100%\"\n",
       "            height=\"350\"\n",
       "            src=\"http://pythontutor.com/iframe-embed.html#code=numbers%20%3D%20%5B4%2C%209%2C%201%2C%205%5D%0Afor%20x%20in%20numbers%3A%0A%20%20%20%20y%20%3D%20x%20%2B%201%0A%20%20%20%20print%28y%29%0Aprint%28%22%D0%92%D0%BE%D1%82%20%D0%B8%20%D0%B2%D1%81%D1%91%22%29%0Aprint%28numbers%29%0A&origin=opt-frontend.js&cumulative=false&heapPrimitives=false&textReferences=false&curInstr=0&&verticalStack=false&py=3&rawInputLstJSON=%5B%5D&codeDivWidth=50%25&codeDivHeight=100%25\"\n",
       "            frameborder=\"0\"\n",
       "            allowfullscreen\n",
       "            \n",
       "        ></iframe>\n",
       "        "
      ],
      "text/plain": [
       "<IPython.lib.display.IFrame at 0x7ffb904b0310>"
      ]
     },
     "metadata": {},
     "output_type": "display_data"
    }
   ],
   "source": [
    "%%tutor --lang python3\n",
    "numbers = [4, 9, 1, 5] # create the list of integers\n",
    "for x in numbers: # iterate list\n",
    "    y = x + 1 # asign result of the operation\n",
    "    print(y) # print sum result\n",
    "print(\"Вот и всё\") # print message\n",
    "print(numbers) # print whole list of integers"
   ]
  },
  {
   "cell_type": "markdown",
   "id": "3437b6ac",
   "metadata": {},
   "source": [
    "Sometimes we don't have any specific list, but just need to execute some code several times, and it's not known in advance how many. The $range()$ object is used to solve this problem."
   ]
  },
  {
   "cell_type": "code",
   "execution_count": 35,
   "id": "87df7019",
   "metadata": {},
   "outputs": [
    {
     "name": "stdout",
     "output_type": "stream",
     "text": [
      "Hello, i = 0\n",
      "Hello, i = 1\n",
      "Hello, i = 2\n",
      "Hello, i = 3\n",
      "Hello, i = 4\n"
     ]
    }
   ],
   "source": [
    "for i in range(5): # iterate range\n",
    "    print(\"Hello, i =\", i) # print message"
   ]
  },
  {
   "cell_type": "markdown",
   "id": "b6af4164",
   "metadata": {},
   "source": [
    "$range(n)$ behaves like a list containing integers from $0$ to $n - 1$ (again, the last element is not included!). There are exactly $n$ elements in it. You can also use $range$ in two arguments: specify the beginning and end of the interval: $range(3,9)$. You can even turn a $range$ into a real list using the $list$:"
   ]
  },
  {
   "cell_type": "code",
   "execution_count": 36,
   "id": "8c8f9b9a",
   "metadata": {},
   "outputs": [
    {
     "data": {
      "text/plain": [
       "[0, 1, 2, 3, 4]"
      ]
     },
     "execution_count": 36,
     "metadata": {},
     "output_type": "execute_result"
    }
   ],
   "source": [
    "list(range(5)) # create list of numbers in range"
   ]
  },
  {
   "cell_type": "code",
   "execution_count": 37,
   "id": "a9de47af",
   "metadata": {},
   "outputs": [
    {
     "data": {
      "text/plain": [
       "[3, 4, 5, 6, 7, 8]"
      ]
     },
     "execution_count": 37,
     "metadata": {},
     "output_type": "execute_result"
    }
   ],
   "source": [
    "list(range(3,9)) # create list of numbers in range"
   ]
  }
 ],
 "metadata": {
  "kernelspec": {
   "display_name": "Python 3 (ipykernel)",
   "language": "python",
   "name": "python3"
  },
  "language_info": {
   "codemirror_mode": {
    "name": "ipython",
    "version": 3
   },
   "file_extension": ".py",
   "mimetype": "text/x-python",
   "name": "python",
   "nbconvert_exporter": "python",
   "pygments_lexer": "ipython3",
   "version": "3.10.6"
  }
 },
 "nbformat": 4,
 "nbformat_minor": 5
}
