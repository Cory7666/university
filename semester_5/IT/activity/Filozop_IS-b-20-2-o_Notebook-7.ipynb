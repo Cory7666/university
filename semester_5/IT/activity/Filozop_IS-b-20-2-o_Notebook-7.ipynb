{
 "cells": [
  {
   "cell_type": "markdown",
   "metadata": {},
   "source": [
    "# Notebook №7. Information Technologies"
   ]
  },
  {
   "cell_type": "markdown",
   "metadata": {},
   "source": [
    "by Alex Filozop from IS/b-20-2-o"
   ]
  },
  {
   "cell_type": "markdown",
   "metadata": {},
   "source": [
    "## Features of working with mutable data types"
   ]
  },
  {
   "cell_type": "markdown",
   "metadata": {},
   "source": [
    "To begin with, I would like to discuss some subtleties when working with lists, dictionaries and other mutable data types. Consider a simple example of a function call."
   ]
  },
  {
   "cell_type": "code",
   "execution_count": 15,
   "metadata": {},
   "outputs": [],
   "source": [
    "# define the function that increments its argument and returns the result\n",
    "def my_func(x):\n",
    "\tx = x + 1\n",
    "\treturn x"
   ]
  },
  {
   "cell_type": "markdown",
   "metadata": {},
   "source": [
    "This function increments its argument by one and returns what happened."
   ]
  },
  {
   "cell_type": "code",
   "execution_count": 16,
   "metadata": {},
   "outputs": [
    {
     "name": "stdout",
     "output_type": "stream",
     "text": [
      "Function returns 6\n",
      "y = 5\n"
     ]
    }
   ],
   "source": [
    "y = 5 # assisgn the integer value to the variable\n",
    "print(\"Function returns\", my_func(y)) # print a return value in pretty format \n",
    "print(\"y =\", y) # print a variable's value in pretty format"
   ]
  },
  {
   "cell_type": "markdown",
   "metadata": {},
   "source": [
    "Nothing unexpected. The function did not change the variable y and should not have done so. Let's now try to do something similar with the list."
   ]
  },
  {
   "cell_type": "code",
   "execution_count": 17,
   "metadata": {},
   "outputs": [],
   "source": [
    "# define the function that appends integer 1 to a list\n",
    "def other_func(my_list):\n",
    "  my_list.append(1)\n",
    "  return my_list"
   ]
  },
  {
   "cell_type": "markdown",
   "metadata": {},
   "source": [
    "This function gets a list as an argument, adds element 1 to the end of it, and returns what happened. Let's try to call her:"
   ]
  },
  {
   "cell_type": "code",
   "execution_count": 18,
   "metadata": {},
   "outputs": [
    {
     "name": "stdout",
     "output_type": "stream",
     "text": [
      "this_list before function: [6, 9, 33]\n",
      "function returns: [6, 9, 33, 1]\n",
      "this_list after function [6, 9, 33, 1]\n"
     ]
    }
   ],
   "source": [
    "this_list = [6, 9, 33] # create a list of integers\n",
    "print(\"this_list before function:\",this_list) # print the list\n",
    "print(\"function returns:\",other_func(this_list)) # print a return value\n",
    "print(\"this_list after function\", this_list) # print the list again"
   ]
  },
  {
   "cell_type": "markdown",
   "metadata": {},
   "source": [
    "Oh. Something strange happened. The `other_func` function modified the list that was passed to it, although it was created outside of this function and was not defined as `global` inside the function (and in general, work was done with another variable inside the function)."
   ]
  },
  {
   "cell_type": "markdown",
   "metadata": {},
   "source": [
    "Why did this happen? To understand this issue, the easiest way is to look at the visualization."
   ]
  },
  {
   "cell_type": "code",
   "execution_count": 19,
   "metadata": {},
   "outputs": [
    {
     "name": "stdout",
     "output_type": "stream",
     "text": [
      "The tutormagic extension is already loaded. To reload it, use:\n",
      "  %reload_ext tutormagic\n"
     ]
    }
   ],
   "source": [
    "%load_ext tutormagic"
   ]
  },
  {
   "cell_type": "code",
   "execution_count": 20,
   "metadata": {},
   "outputs": [
    {
     "name": "stderr",
     "output_type": "stream",
     "text": [
      "UsageError: Line magic function `%%tutor` not found.\n"
     ]
    }
   ],
   "source": [
    "# enable an extension\n",
    "%%tutor --lang python3\n",
    "\n",
    "# define the function that appends integer 1 to a list\n",
    "def other_func(my_list):\n",
    "  my_list.append(1)\n",
    "  return my_list\n",
    "\n",
    "this_list = [6, 9, 33] # create list of integers\n",
    "other_func(this_list) # call the function"
   ]
  },
  {
   "cell_type": "markdown",
   "metadata": {},
   "source": [
    "## Two sorts"
   ]
  },
  {
   "cell_type": "markdown",
   "metadata": {},
   "source": [
    "Let's look at two more examples that show the difference between these two scenarios — they will again involve lists. Perform two visualizations and find out what the difference is. After that, read on."
   ]
  },
  {
   "cell_type": "code",
   "execution_count": 21,
   "metadata": {},
   "outputs": [
    {
     "data": {
      "text/html": [
       "\n",
       "        <iframe\n",
       "            width=\"100%\"\n",
       "            height=\"350\"\n",
       "            src=\"http://pythontutor.com/iframe-embed.html#code=%0A%23%20define%20the%20function%20that%20sorts%20a%20collection%20by%20calling%20sorted%28%29%20function%0Adef%20return_sorted%28my_list%29%3A%0A%20%20my_list%20%3D%20sorted%28my_list%29%0A%20%20return%20my_list%0A%0Athis_list%20%3D%20%5B33%2C%201%2C%2055%5D%20%23%20create%20a%20list%20of%20integers%0Aprint%28%22this_list%20before%20function%3A%22%2C%20this_list%29%20%23%20print%20that%20list%0Aprint%28%22function%20returned%3A%22%2C%20return_sorted%28this_list%29%29%20%23%20print%20a%20return%20value%0Aprint%28%22this_list%20after%20function%3A%22%2C%20this_list%29%20%23%20print%20that%20list%20again%0A&origin=opt-frontend.js&cumulative=false&heapPrimitives=false&textReferences=false&curInstr=0&&verticalStack=false&py=3&rawInputLstJSON=%5B%5D&codeDivWidth=50%25&codeDivHeight=100%25\"\n",
       "            frameborder=\"0\"\n",
       "            allowfullscreen\n",
       "            \n",
       "        ></iframe>\n",
       "        "
      ],
      "text/plain": [
       "<IPython.lib.display.IFrame at 0x7f380df4d870>"
      ]
     },
     "metadata": {},
     "output_type": "display_data"
    }
   ],
   "source": [
    "%%tutor --lang python3\n",
    "\n",
    "# define the function that sorts a collection by calling sorted() function\n",
    "def return_sorted(my_list):\n",
    "  my_list = sorted(my_list)\n",
    "  return my_list\n",
    "\n",
    "this_list = [33, 1, 55] # create a list of integers\n",
    "print(\"this_list before function:\", this_list) # print that list\n",
    "print(\"function returned:\", return_sorted(this_list)) # print a return value\n",
    "print(\"this_list after function:\", this_list) # print that list again"
   ]
  },
  {
   "cell_type": "code",
   "execution_count": 22,
   "metadata": {},
   "outputs": [
    {
     "data": {
      "text/html": [
       "\n",
       "        <iframe\n",
       "            width=\"100%\"\n",
       "            height=\"350\"\n",
       "            src=\"http://pythontutor.com/iframe-embed.html#code=%0A%23%20define%20the%20function%20that%20sorts%20a%20collection%20by%20calling%20sort%28%29%20method%0Adef%20sort_and_return%28my_list%29%3A%0A%20%20my_list.sort%28%29%0A%20%20return%20my_list%0A%0Athis_list%20%3D%20%5B33%2C%201%2C%2055%5D%20%23%20create%20a%20list%20%0Aprint%28%22this_list%20before%20function%3A%22%2C%20this_list%29%20%23%20print%20that%20list%0Aprint%28%22function%20returned%3A%22%2C%20sort_and_return%28this_list%29%29%20%23%20print%20a%20return%20value%0Aprint%28%22this_list%20after%20function%3A%22%2C%20this_list%29%20%23%20print%20that%20list%20again%0A&origin=opt-frontend.js&cumulative=false&heapPrimitives=false&textReferences=false&curInstr=0&&verticalStack=false&py=3&rawInputLstJSON=%5B%5D&codeDivWidth=50%25&codeDivHeight=100%25\"\n",
       "            frameborder=\"0\"\n",
       "            allowfullscreen\n",
       "            \n",
       "        ></iframe>\n",
       "        "
      ],
      "text/plain": [
       "<IPython.lib.display.IFrame at 0x7f380df4e9e0>"
      ]
     },
     "metadata": {},
     "output_type": "display_data"
    }
   ],
   "source": [
    "%%tutor --lang python3\n",
    "\n",
    "# define the function that sorts a collection by calling sort() method\n",
    "def sort_and_return(my_list):\n",
    "  my_list.sort()\n",
    "  return my_list\n",
    "\n",
    "this_list = [33, 1, 55] # create a list \n",
    "print(\"this_list before function:\", this_list) # print that list\n",
    "print(\"function returned:\", sort_and_return(this_list)) # print a return value\n",
    "print(\"this_list after function:\", this_list) # print that list again"
   ]
  },
  {
   "cell_type": "markdown",
   "metadata": {},
   "source": [
    "So, what's the difference?"
   ]
  },
  {
   "cell_type": "markdown",
   "metadata": {},
   "source": [
    "The `return_sorted()` and `sort_and_return()` functions do about the same job: they take a list as input, sort it, and return it. At the moment when the function is entered (Step 5), the situation in both fragments is identical: there is a variable outside the function `this_list`, inside the function there is a variable `my_list`, they both point to the same list. The key difference happens in the next step. The `return_sorted()` function uses the `sorted()` function to create a new list. Then it assigns (`=`) the result of the `sorted()` execution the my_list variable . This leads to the fact that a variable with this name begins to refer to a new object (Step 7), and the old one (which is still referenced by this_list) remains intact. `sort_and_return()` works quite differently — it uses the `sort()` method, which sorts the list in place, inside itself. In this case, a new object is not created, the assignment operation is not used and the variable `my_list` continues to refer to the same list as before. It just turns out to be sorted."
   ]
  },
  {
   "cell_type": "markdown",
   "metadata": {},
   "source": [
    "Note the similarity of `return_sorted()` and `my_func()` from the example above: in both cases, the assignment operator is used. The difference is that it was impossible to do anything else with a numeric variable, since numbers are immutable, and in the case of a list, the developer has a choice: you can create a new object and assign it to an old variable, or you can change an existing object without creating a new one."
   ]
  },
  {
   "cell_type": "markdown",
   "metadata": {},
   "source": [
    "## Creating a copy"
   ]
  },
  {
   "cell_type": "markdown",
   "metadata": {},
   "source": [
    "Suppose now that we want to write a function that accepts a list as input, returns the same list, but with one added element, and does not change the original list itself. This can be done, for example, like this:"
   ]
  },
  {
   "cell_type": "code",
   "execution_count": 23,
   "metadata": {},
   "outputs": [],
   "source": [
    "# define the function that returns a copy of a list with appended second argument at the end\n",
    "def return_append(L, a):\n",
    "  new_L = L.copy()\n",
    "  new_L.append(a)\n",
    "  return new_L"
   ]
  },
  {
   "cell_type": "code",
   "execution_count": 24,
   "metadata": {},
   "outputs": [
    {
     "name": "stdout",
     "output_type": "stream",
     "text": [
      "outer_list before funciton [7, 8, 9]\n",
      "function returned [7, 8, 9, 55]\n",
      "outer_list after function [7, 8, 9]\n"
     ]
    }
   ],
   "source": [
    "outer_list = [7, 8, 9] # create a list of integers\n",
    "print(\"outer_list before funciton\", outer_list) # print that list\n",
    "print(\"function returned\", return_append(outer_list, 55)) # print a return value\n",
    "print(\"outer_list after function\", outer_list) # print that list again"
   ]
  },
  {
   "cell_type": "markdown",
   "metadata": {},
   "source": [
    "Here the main trick is to use `L.copy()` — recall that this method creates a copy of an existing list. Then we perform the assignment operation again (that is, now `new_Line` is the name for a copy of the list `L`, and not for the list `L` itself) and we can do anything with this new list `new_L`. The old list will not change."
   ]
  },
  {
   "cell_type": "markdown",
   "metadata": {},
   "source": [
    "## Not just function calls"
   ]
  },
  {
   "cell_type": "markdown",
   "metadata": {},
   "source": [
    "Problems similar to those discussed above arise not only when calling functions. Let's start with a simple example with a loop."
   ]
  },
  {
   "cell_type": "code",
   "execution_count": 25,
   "metadata": {},
   "outputs": [
    {
     "name": "stdout",
     "output_type": "stream",
     "text": [
      "[7, 9, 11]\n"
     ]
    }
   ],
   "source": [
    "some_list = [7, 9, 11] # create a list of integers\n",
    "# do useless increment\n",
    "for x in some_list:\n",
    "  x = x + 1\n",
    "print(some_list) # print unchanged list"
   ]
  },
  {
   "cell_type": "markdown",
   "metadata": {},
   "source": [
    "The list of some_list has not changed, and this is not surprising. But let's now look at a slightly more complicated situation with a list of lists."
   ]
  },
  {
   "cell_type": "code",
   "execution_count": 26,
   "metadata": {},
   "outputs": [
    {
     "name": "stdout",
     "output_type": "stream",
     "text": [
      "[[1, 5, 77], [7, 9, 77]]\n"
     ]
    }
   ],
   "source": [
    "table = [[1, 5], [7, 9]] # create a complex list (table)\n",
    "# for each row\n",
    "for row in table:\n",
    "  row.append(77) # append an integer at the end\n",
    "print(table) # print the list (table)"
   ]
  },
  {
   "cell_type": "markdown",
   "metadata": {},
   "source": [
    "And again, \"oh.\" What happened? Let's look at the visualizer"
   ]
  },
  {
   "cell_type": "code",
   "execution_count": 27,
   "metadata": {},
   "outputs": [
    {
     "data": {
      "text/html": [
       "\n",
       "        <iframe\n",
       "            width=\"100%\"\n",
       "            height=\"350\"\n",
       "            src=\"http://pythontutor.com/iframe-embed.html#code=table%20%3D%20%5B%5B1%2C%205%5D%2C%20%5B7%2C%209%5D%5D%20%23%20create%20a%20complex%20list%20%28table%29%0A%23%20for%20each%20row%0Afor%20row%20in%20table%3A%0A%20%20row.append%2877%29%20%23%20append%20an%20integer%20at%20the%20end%0Aprint%28table%29%20%23%20print%20the%20list%20%28table%29%0A&origin=opt-frontend.js&cumulative=false&heapPrimitives=false&textReferences=false&curInstr=0&&verticalStack=false&py=3&rawInputLstJSON=%5B%5D&codeDivWidth=50%25&codeDivHeight=100%25\"\n",
       "            frameborder=\"0\"\n",
       "            allowfullscreen\n",
       "            \n",
       "        ></iframe>\n",
       "        "
      ],
      "text/plain": [
       "<IPython.lib.display.IFrame at 0x7f380df4de70>"
      ]
     },
     "metadata": {},
     "output_type": "display_data"
    }
   ],
   "source": [
    "%%tutor --lang python3\n",
    "table = [[1, 5], [7, 9]] # create a complex list (table)\n",
    "# for each row\n",
    "for row in table:\n",
    "  row.append(77) # append an integer at the end\n",
    "print(table) # print the list (table)"
   ]
  },
  {
   "cell_type": "markdown",
   "metadata": {},
   "source": [
    "When executing the first step of the loop (Step 3), the first element of the table list is written to the `row` variable. However, this element is itself a list — or rather a link to the list. In the next step (Step 4), item 77 is added to this list. Then row becomes a reference to the second element of the table list . Element 77 is also added to it ."
   ]
  },
  {
   "cell_type": "markdown",
   "metadata": {},
   "source": [
    "Pay attention to the parallel with the previous plot: here, too, a call to the list method is involved, which changes this list *in place*."
   ]
  },
  {
   "cell_type": "markdown",
   "metadata": {},
   "source": [
    "## Puzzle"
   ]
  },
  {
   "cell_type": "markdown",
   "metadata": {},
   "source": [
    "What do you think will happen if you execute the following code? Try to do it, look at the result and try to explain."
   ]
  },
  {
   "cell_type": "code",
   "execution_count": 28,
   "metadata": {},
   "outputs": [
    {
     "name": "stdout",
     "output_type": "stream",
     "text": [
      "[[1], [1], [1], [1], [1]]\n"
     ]
    }
   ],
   "source": [
    "A = [[]]*5 # create a list that contains 5 references to an empty list\n",
    "A[0].append(1) # append an integer\n",
    "print(A) # print the list"
   ]
  },
  {
   "cell_type": "markdown",
   "metadata": {},
   "source": [
    "## Changing an iterated object in a loop"
   ]
  },
  {
   "cell_type": "markdown",
   "metadata": {},
   "source": [
    "In the example above, we changed the contents of the \"internal\" lists, but the table list itself remained unchanged: the number of elements did not change in it and the elements remained links to the same row lists as before. Is it possible to change the list itself during iterations? It turns out you can. Although in most cases it is better not to do this. Before considering the example, let's recall how the `pop()` method works for a list:"
   ]
  },
  {
   "cell_type": "code",
   "execution_count": 29,
   "metadata": {},
   "outputs": [
    {
     "name": "stdout",
     "output_type": "stream",
     "text": [
      "8\n",
      "[6, 9, 44]\n"
     ]
    }
   ],
   "source": [
    "L = [6, 9, 44, 8] # create a list of integers\n",
    "print(L.pop()) # delete last element from the list and print it\n",
    "print(L) # print whole list"
   ]
  },
  {
   "cell_type": "markdown",
   "metadata": {},
   "source": [
    "It removes the last item from the list and returns the same. Let's apply it now as follows:"
   ]
  },
  {
   "cell_type": "code",
   "execution_count": 30,
   "metadata": {},
   "outputs": [
    {
     "name": "stdout",
     "output_type": "stream",
     "text": [
      "Pop element 10\n",
      "7\n",
      "Pop element 9\n",
      "8\n"
     ]
    }
   ],
   "source": [
    "L = [7, 8, 9, 10] # create a list of integers\n",
    "# on each loop iteration delete last element from list, print it and print whole list \n",
    "for x in L:\n",
    "  print(\"Pop element\", L.pop())\n",
    "  print(x)"
   ]
  },
  {
   "cell_type": "markdown",
   "metadata": {},
   "source": [
    "The loop is executed twice: by the time the loop finishes processing element 8, elements 9 and 10 from the list will already be deleted, there will be no unprocessed elements in the list and the cycle will stop."
   ]
  },
  {
   "cell_type": "markdown",
   "metadata": {},
   "source": [
    "You can guess what will happen only by studying the code very carefully. This means that the code is not very good: looking at good code, you can understand what it will do."
   ]
  },
  {
   "cell_type": "markdown",
   "metadata": {},
   "source": [
    "The situation is different with dictionaries."
   ]
  },
  {
   "cell_type": "code",
   "execution_count": 31,
   "metadata": {},
   "outputs": [
    {
     "name": "stdout",
     "output_type": "stream",
     "text": [
      "1 2\n"
     ]
    },
    {
     "ename": "RuntimeError",
     "evalue": "dictionary changed size during iteration",
     "output_type": "error",
     "traceback": [
      "\u001b[0;31m---------------------------------------------------------------------------\u001b[0m",
      "\u001b[0;31mRuntimeError\u001b[0m                              Traceback (most recent call last)",
      "Cell \u001b[0;32mIn [31], line 3\u001b[0m\n\u001b[1;32m      1\u001b[0m d \u001b[39m=\u001b[39m {\u001b[39m1\u001b[39m:\u001b[39m2\u001b[39m, \u001b[39m3\u001b[39m:\u001b[39m4\u001b[39m} \u001b[39m# create a dictionary with 2 pairs\u001b[39;00m\n\u001b[1;32m      2\u001b[0m \u001b[39m# for each pair in dictionary delete pair from it with key 3 and print current pair  \u001b[39;00m\n\u001b[0;32m----> 3\u001b[0m \u001b[39mfor\u001b[39;00m k, v \u001b[39min\u001b[39;00m d\u001b[39m.\u001b[39mitems():\n\u001b[1;32m      4\u001b[0m   \u001b[39mdel\u001b[39;00m d[\u001b[39m3\u001b[39m]\n\u001b[1;32m      5\u001b[0m   \u001b[39mprint\u001b[39m(k, v)\n",
      "\u001b[0;31mRuntimeError\u001b[0m: dictionary changed size during iteration"
     ]
    }
   ],
   "source": [
    "d = {1:2, 3:4} # create a dictionary with 2 pairs\n",
    "# for each pair in dictionary delete pair from it with key 3 and print current pair  \n",
    "for k, v in d.items():\n",
    "  del d[3]\n",
    "  print(k, v)"
   ]
  },
  {
   "cell_type": "markdown",
   "metadata": {},
   "source": [
    "Here the `del d[3]` command removes the element with key 3 from the dictionary. Since the iteration order of dictionary elements is not defined, no one knows how to correctly continue iterations after the dictionary size has been changed. Therefore, such an operation is prohibited."
   ]
  },
  {
   "cell_type": "markdown",
   "metadata": {},
   "source": [
    "However, this does not mean that it is forbidden to change the dictionary value when executing a loop. For example, we want to add the number 1 to all the values. The following naive method is not expected to work:"
   ]
  },
  {
   "cell_type": "code",
   "execution_count": 32,
   "metadata": {},
   "outputs": [
    {
     "name": "stdout",
     "output_type": "stream",
     "text": [
      "{1: 2, 3: 4}\n"
     ]
    }
   ],
   "source": [
    "d={1:2, 3:4} # create a dictionary\n",
    "# for each pair try to change a value\n",
    "for k, v in d.items():\n",
    "  v = v + 1\n",
    "print(d) # print unchanged dictionary"
   ]
  },
  {
   "cell_type": "markdown",
   "metadata": {},
   "source": [
    "In fact, this task should be solved like this:"
   ]
  },
  {
   "cell_type": "code",
   "execution_count": 33,
   "metadata": {},
   "outputs": [
    {
     "name": "stdout",
     "output_type": "stream",
     "text": [
      "{1: 3, 3: 5}\n"
     ]
    }
   ],
   "source": [
    "d = {1:2, 3:4} # create a dictionary\n",
    "# change each dictionary's value by using for loop\n",
    "for k in d:\n",
    "  d[k] = d[k] + 1\n",
    "print(d) # print changed dictionary"
   ]
  },
  {
   "cell_type": "markdown",
   "metadata": {},
   "source": [
    "## Sets"
   ]
  },
  {
   "cell_type": "markdown",
   "metadata": {},
   "source": [
    "Another basic data type in Python is a set. It corresponds to the mathematical concept of a set — that is, a set of some elements. Each element may or may not be included in the set."
   ]
  },
  {
   "cell_type": "code",
   "execution_count": 34,
   "metadata": {},
   "outputs": [],
   "source": [
    "my_set = {6, 9, 11, 11, 9, 'hello'} # create a set"
   ]
  },
  {
   "cell_type": "code",
   "execution_count": 35,
   "metadata": {},
   "outputs": [
    {
     "data": {
      "text/plain": [
       "{11, 6, 9, 'hello'}"
      ]
     },
     "execution_count": 35,
     "metadata": {},
     "output_type": "execute_result"
    }
   ],
   "source": [
    "my_set # print that set"
   ]
  },
  {
   "cell_type": "markdown",
   "metadata": {},
   "source": [
    "As can be seen from this simple example, the elements of the set are also not ordered."
   ]
  },
  {
   "cell_type": "code",
   "execution_count": 36,
   "metadata": {},
   "outputs": [
    {
     "data": {
      "text/plain": [
       "True"
      ]
     },
     "execution_count": 36,
     "metadata": {},
     "output_type": "execute_result"
    }
   ],
   "source": [
    "{6, 9, 11, 11, 9, 'hello'} == {9, 'hello', 11, 6} # compare two sets"
   ]
  },
  {
   "cell_type": "markdown",
   "metadata": {},
   "source": [
    "This is how you can check whether an element lies in the set."
   ]
  },
  {
   "cell_type": "code",
   "execution_count": 37,
   "metadata": {},
   "outputs": [
    {
     "data": {
      "text/plain": [
       "True"
      ]
     },
     "execution_count": 37,
     "metadata": {},
     "output_type": "execute_result"
    }
   ],
   "source": [
    "9 in my_set # is set contains value 9"
   ]
  },
  {
   "cell_type": "code",
   "execution_count": 38,
   "metadata": {},
   "outputs": [
    {
     "data": {
      "text/plain": [
       "False"
      ]
     },
     "execution_count": 38,
     "metadata": {},
     "output_type": "execute_result"
    }
   ],
   "source": [
    "10 in my_set # is set contains value 10"
   ]
  },
  {
   "cell_type": "markdown",
   "metadata": {},
   "source": [
    "Of course, the in operator does not work only for sets. For example, `4 in [2, 4, 8, 10]` will return `True`. However, for lists, this operation is slow — or rather, massive: the larger the list, the more comparison operations need to be performed to understand whether a particular element lies in it. In the case of sets, the time for checking practically does not increase with the increase in the number of elements of the set."
   ]
  },
  {
   "cell_type": "markdown",
   "metadata": {},
   "source": [
    "You can do different operations with sets — we are familiar with them in math courses. For example, the union and intersection of two sets gives a new set:"
   ]
  },
  {
   "cell_type": "code",
   "execution_count": 39,
   "metadata": {},
   "outputs": [
    {
     "data": {
      "text/plain": [
       "{6, 7, 8, 9, 11}"
      ]
     },
     "execution_count": 39,
     "metadata": {},
     "output_type": "execute_result"
    }
   ],
   "source": [
    "{6, 8, 9} | {6, 11, 7} # join two sets"
   ]
  },
  {
   "cell_type": "code",
   "execution_count": 40,
   "metadata": {},
   "outputs": [
    {
     "data": {
      "text/plain": [
       "{6}"
      ]
     },
     "execution_count": 40,
     "metadata": {},
     "output_type": "execute_result"
    }
   ],
   "source": [
    "{6, 8, 9} & {6, 11, 7} # get intersection of two sets"
   ]
  },
  {
   "cell_type": "code",
   "execution_count": 41,
   "metadata": {},
   "outputs": [
    {
     "name": "stdout",
     "output_type": "stream",
     "text": [
      "{'Q', 'Aaaaa', 'Zzzzz', 'World', 'Test', 'Hello', 'Zz', 'Guest'}\n",
      "['Aaaaa', 'Guest', 'Hello', 'Q', 'Test', 'World', 'Zz', 'Zzzzz']\n"
     ]
    }
   ],
   "source": [
    "s = {\"Hello\", \"World\", \"Test\", \"Guest\", \"Aaaaa\", \"Zzzzz\",\"Zz\",\"Q\"} # create a set of strings\n",
    "print(s) # print that set\n",
    "print(sorted(s)) # printing a list that is the result of applying sorted() function over a set"
   ]
  },
  {
   "cell_type": "markdown",
   "metadata": {},
   "source": [
    "## Example of using sets"
   ]
  },
  {
   "cell_type": "markdown",
   "metadata": {},
   "source": [
    "Let's say we ask the user to enter a command, but we want to give him the opportunity to enter the same command in different ways. For example, to stop a program, the user can type the word *stop* or *STOP* or *Stop* or just the letter *s* or *S*. You can handle this case with multiple conditions connected by `or`:"
   ]
  },
  {
   "cell_type": "code",
   "execution_count": 42,
   "metadata": {},
   "outputs": [
    {
     "name": "stdout",
     "output_type": "stream",
     "text": [
      "Okay, stopping\n"
     ]
    }
   ],
   "source": [
    "s = 'stop' # create a string\n",
    "if s == 'stop' or s == 'Stop' or s == 'STOP' or s == 'S' or s == 's': # compare string\n",
    "  print(\"Okay, stopping\") # print a message"
   ]
  },
  {
   "cell_type": "markdown",
   "metadata": {},
   "source": [
    "And you can create a set for all possible variations of the stop command and check whether our team is included in this set:"
   ]
  },
  {
   "cell_type": "code",
   "execution_count": 43,
   "metadata": {},
   "outputs": [
    {
     "name": "stdout",
     "output_type": "stream",
     "text": [
      "Okay, stopping\n"
     ]
    }
   ],
   "source": [
    "s = 'stop' # create a string\n",
    "STOPS = {'stop', 'Stop', 'STOP', 'S', 's'} # create a set of strings (valid commands)\n",
    "if s in STOPS: # check that the received command is a part of a set of valid commands\n",
    "  print(\"Okay, stopping\") # print a message"
   ]
  },
  {
   "cell_type": "markdown",
   "metadata": {},
   "source": [
    "However, in this place, probably, instead of a set, it would be possible to use just a list."
   ]
  },
  {
   "cell_type": "markdown",
   "metadata": {},
   "source": [
    "## A little more about the lines"
   ]
  },
  {
   "cell_type": "markdown",
   "metadata": {},
   "source": [
    "I've been meaning to tell you about methods for working with strings for a long time. In general, there are many of these methods and I will not tell you about everything, but we will discuss some of them now."
   ]
  },
  {
   "cell_type": "code",
   "execution_count": 44,
   "metadata": {},
   "outputs": [
    {
     "name": "stdout",
     "output_type": "stream",
     "text": [
      "Hi world, Hi\n",
      "hello world, hello\n"
     ]
    }
   ],
   "source": [
    "s = \"hello world, hello\" # create a string\n",
    "new_s = s.replace(\"hello\", \"Hi\") # replace all occurrences with the specified string and assign a result to the variable\n",
    "print(new_s) # print result string\n",
    "print(s) # print source string"
   ]
  },
  {
   "cell_type": "markdown",
   "metadata": {},
   "source": [
    "This is how, for example, you can replace a substring in a string. Note: a string `i` an immutable data type, therefore, unlike list methods of the `append()` type, string methods never change the string itself (this is not possible at all), but instead create a new string and return the result."
   ]
  },
  {
   "cell_type": "markdown",
   "metadata": {},
   "source": [
    "If you wanted to replace only the first few occurrences (for example, only the first word hello, but not the second one), you could add a third argument to the replace method — it shows how many times you need to replace."
   ]
  },
  {
   "cell_type": "code",
   "execution_count": 45,
   "metadata": {},
   "outputs": [
    {
     "data": {
      "text/plain": [
       "'Hi world, hello'"
      ]
     },
     "execution_count": 45,
     "metadata": {},
     "output_type": "execute_result"
    }
   ],
   "source": [
    "\"hello world, hello\".replace(\"hello\", \"Hi\", 1) # replace only first occurrence in the source string"
   ]
  },
  {
   "cell_type": "markdown",
   "metadata": {},
   "source": [
    "This is how you can find a substring in a string:"
   ]
  },
  {
   "cell_type": "code",
   "execution_count": 46,
   "metadata": {},
   "outputs": [
    {
     "data": {
      "text/plain": [
       "6"
      ]
     },
     "execution_count": 46,
     "metadata": {},
     "output_type": "execute_result"
    }
   ],
   "source": [
    "s.index(\"world\") # get index of first occurrence or throw exception"
   ]
  },
  {
   "cell_type": "code",
   "execution_count": 47,
   "metadata": {},
   "outputs": [
    {
     "data": {
      "text/plain": [
       "6"
      ]
     },
     "execution_count": 47,
     "metadata": {},
     "output_type": "execute_result"
    }
   ],
   "source": [
    "s.find(\"world\") # get index of first occurrence or return -1"
   ]
  },
  {
   "cell_type": "markdown",
   "metadata": {},
   "source": [
    "Both methods return the index of the first character of the substring. The difference is that if `index()` cannot find a substring at all, it throws an error (exception), and if `find()` encounters a similar problem, it will return the number $-1$ as an index."
   ]
  },
  {
   "cell_type": "markdown",
   "metadata": {},
   "source": [
    "By the way, you can also check whether a substring is included in a string like this:"
   ]
  },
  {
   "cell_type": "code",
   "execution_count": 48,
   "metadata": {},
   "outputs": [
    {
     "data": {
      "text/plain": [
       "True"
      ]
     },
     "execution_count": 48,
     "metadata": {},
     "output_type": "execute_result"
    }
   ],
   "source": [
    "\"world\" in s # does source string contain a specific substring"
   ]
  },
  {
   "cell_type": "markdown",
   "metadata": {},
   "source": [
    "And this is how you can calculate how many substrings occur in a string:"
   ]
  },
  {
   "cell_type": "code",
   "execution_count": 49,
   "metadata": {},
   "outputs": [
    {
     "data": {
      "text/plain": [
       "3"
      ]
     },
     "execution_count": 49,
     "metadata": {},
     "output_type": "execute_result"
    }
   ],
   "source": [
    "s.count(\"o\") # get count of occurrences substring in source string "
   ]
  },
  {
   "cell_type": "markdown",
   "metadata": {},
   "source": [
    "Details can be found in [the official help]([https://docs.python.org/3/library/string.html])."
   ]
  },
  {
   "cell_type": "markdown",
   "metadata": {},
   "source": [
    "## File I/O"
   ]
  },
  {
   "cell_type": "markdown",
   "metadata": {},
   "source": [
    "We are starting to work with files. Now we will discuss only reading and writing. There is a separate story about how to run files for execution — there is a subprocess method for this, we will get to it someday. (Maybe.) Also, to begin with, we will talk about text files or text-like files (for example, Python code or a CSV file will be text). There are also binary files that are useless to read with \"eyes\" — there will be a separate story about some of them."
   ]
  },
  {
   "cell_type": "markdown",
   "metadata": {},
   "source": [
    "Let's say we want to read a file:"
   ]
  },
  {
   "cell_type": "code",
   "execution_count": 50,
   "metadata": {},
   "outputs": [
    {
     "name": "stdout",
     "output_type": "stream",
     "text": [
      "123\n",
      "456\n",
      "Gutten Tag!\n",
      "\n"
     ]
    }
   ],
   "source": [
    "f = open(\"func.txt\") # open a specific file\n",
    "s = f.read() # read data from file\n",
    "f.close() # close the file stream\n",
    "print(s) # print the read data"
   ]
  },
  {
   "cell_type": "markdown",
   "metadata": {},
   "source": [
    "What happened here? First, we have opened a file for reading *func.txt*, lying in our current working directory. To find out which directory is working, you can do the following:"
   ]
  },
  {
   "cell_type": "code",
   "execution_count": 51,
   "metadata": {},
   "outputs": [
    {
     "data": {
      "text/plain": [
       "'/home/alex/Documents/Yandex.Disk/files/Work/University/Activity/IT/activity'"
      ]
     },
     "execution_count": 51,
     "metadata": {},
     "output_type": "execute_result"
    }
   ],
   "source": [
    "# import specific module\n",
    "import os\n",
    "os.getcwd() # get Current Work Directory"
   ]
  },
  {
   "cell_type": "markdown",
   "metadata": {},
   "source": [
    "The `open()` function returned an object of the `file` type — a variable that can be used to work with the file. Then we read the contents of the file into the string `s`, and then closed the file. Closing files is very useful: if you forget to close a file, another application will not be able to open it (for example, to write something to it)."
   ]
  },
  {
   "cell_type": "markdown",
   "metadata": {},
   "source": [
    "The `read()` function reads the entire file into one large string variable. This is not always convenient (considering that strings in Python are immutable and because of this, working with them is not always effective), so there are various other scenarios for working with files. For example, you can read the contents of a file into a list by splitting it into lines."
   ]
  },
  {
   "cell_type": "code",
   "execution_count": 52,
   "metadata": {},
   "outputs": [
    {
     "name": "stdout",
     "output_type": "stream",
     "text": [
      "['123\\n', '456\\n', 'Gutten Tag!\\n']\n"
     ]
    }
   ],
   "source": [
    "f = open(\"func.txt\") # open a file\n",
    "lines = f.readlines() # get list of lines\n",
    "f.close() # close the file stream\n",
    "print(lines) # print list of the read lines"
   ]
  },
  {
   "cell_type": "markdown",
   "metadata": {},
   "source": [
    "Note that each of the lines is wrapped with a newline character `\\n` — they were present in the file and we honestly counted them from it. This is how you can output a file by lines, numbering them:"
   ]
  },
  {
   "cell_type": "code",
   "execution_count": 53,
   "metadata": {},
   "outputs": [
    {
     "name": "stdout",
     "output_type": "stream",
     "text": [
      "1 123\n",
      "2 456\n",
      "3 Gutten Tag!\n"
     ]
    }
   ],
   "source": [
    "# print all lines in one line beginning from second line\n",
    "for i, line in enumerate(lines, 1):\n",
    "  print(i, line, end=\"\")"
   ]
  },
  {
   "cell_type": "markdown",
   "metadata": {},
   "source": [
    "Another way to do this is not to create a separate list, but to iterate a file object right away"
   ]
  },
  {
   "cell_type": "code",
   "execution_count": 54,
   "metadata": {},
   "outputs": [
    {
     "name": "stdout",
     "output_type": "stream",
     "text": [
      "1 123\n",
      "2 456\n",
      "3 Gutten Tag!\n"
     ]
    }
   ],
   "source": [
    "f = open(\"func.txt\") # open a file stream\n",
    "# print all lines in one line beginning from second line\n",
    "for i, line in enumerate(f, 1):\n",
    "  print(i, line, end=\"\")\n",
    "f.close() # close the file stream"
   ]
  },
  {
   "cell_type": "markdown",
   "metadata": {},
   "source": [
    "This method is more preferable if the file is large. In this case, it may be impossible to read it into memory as a whole, and it is quite possible to process it one line at a time."
   ]
  },
  {
   "cell_type": "markdown",
   "metadata": {},
   "source": [
    "There are, however, some tricks. Consider, for example, the following code:"
   ]
  },
  {
   "cell_type": "code",
   "execution_count": 55,
   "metadata": {},
   "outputs": [
    {
     "name": "stdout",
     "output_type": "stream",
     "text": [
      "123\n",
      "456\n",
      "Gutten Tag!\n",
      "----The next one----\n"
     ]
    }
   ],
   "source": [
    "f = open(\"func.txt\") # open a file stream\n",
    "# print all lines in file on one line\n",
    "for line in f:\n",
    "  print(line, end=\"\")\n",
    "print(\"----The next one----\") # print a message\n",
    "# try to print lines after the end of file\n",
    "for line in f:\n",
    "  print(line, end=\"\")\n",
    "f.close() # close a file stream"
   ]
  },
  {
   "cell_type": "markdown",
   "metadata": {},
   "source": [
    "What happened here? Why didn't the second cycle run at all (nothing is output after the line `----The next one----`)? Very simple: the variable `f`, although it pretends to be a list of strings, when we iterate it, in fact it is not. In fact, when opening a file, we remember the position at which we read this file. Initially, it points to the very beginning of the file, but it shifts with each iteration. When we read the whole file, further attempts to read something from it will lead to nothing: the pointer of the current position has moved to the very end and the file has ended."
   ]
  },
  {
   "cell_type": "markdown",
   "metadata": {},
   "source": [
    "However, it is possible to go back to the beginning: to do this, you need to use the `seek()` method."
   ]
  },
  {
   "cell_type": "code",
   "execution_count": 56,
   "metadata": {},
   "outputs": [
    {
     "name": "stdout",
     "output_type": "stream",
     "text": [
      "123\n",
      "456\n",
      "Gutten Tag!\n",
      "----The next one----\n",
      "123\n",
      "456\n",
      "Gutten Tag!\n"
     ]
    }
   ],
   "source": [
    "f = open(\"func.txt\") # open a file stream\n",
    "# print all lines in file on one line\n",
    "for line in f:\n",
    "  print(line, end=\"\")\n",
    "print(\"----The next one----\") # print a message\n",
    "f.seek(0) # move to the begin of file\n",
    "# do above again\n",
    "for line in f:\n",
    "  print(line, end=\"\")\n",
    "f.close() # close a file stream"
   ]
  },
  {
   "cell_type": "markdown",
   "metadata": {},
   "source": [
    "## Writing to files"
   ]
  },
  {
   "cell_type": "markdown",
   "metadata": {},
   "source": [
    "To create a file and write something to it, you need to open it for recording. This is done by passing the second argument to the `open` function — here you need to write the line `\"w\"` (from write)."
   ]
  },
  {
   "cell_type": "markdown",
   "metadata": {},
   "source": [
    "You can write information to a file that is open for writing, for example, using the method `write()`."
   ]
  },
  {
   "cell_type": "code",
   "execution_count": 57,
   "metadata": {},
   "outputs": [],
   "source": [
    "f = open(\"other.txt\", \"w\") # open a file stream\n",
    "f.write(\"Hello\\n\") # write string\n",
    "f.close() # close a file stream"
   ]
  },
  {
   "cell_type": "markdown",
   "metadata": {},
   "source": [
    "Let's check what happened:"
   ]
  },
  {
   "cell_type": "code",
   "execution_count": 58,
   "metadata": {},
   "outputs": [
    {
     "name": "stderr",
     "output_type": "stream",
     "text": [
      "/tmp/ipykernel_5346/684419249.py:1: ResourceWarning: unclosed file <_io.TextIOWrapper name='other.txt' mode='r' encoding='UTF-8'>\n",
      "  open('other.txt').read() # open a file stream and read data\n",
      "ResourceWarning: Enable tracemalloc to get the object allocation traceback\n"
     ]
    },
    {
     "data": {
      "text/plain": [
       "'Hello\\n'"
      ]
     },
     "execution_count": 58,
     "metadata": {},
     "output_type": "execute_result"
    }
   ],
   "source": [
    "open('other.txt').read() # open a file stream and read data"
   ]
  },
  {
   "cell_type": "markdown",
   "metadata": {},
   "source": [
    "We can see what we really wrote to the file other.txt the line `Hello\\n`. Note that here we are they opened the file for writing, but did not assign the file object to any variable, but immediately called the `read()` method from it. In this case, the file will be closed automatically some time after executing this command. (The system issues a warning that we have not explicitly closed the file — in some cases this may lead to some problems)."
   ]
  }
 ],
 "metadata": {
  "kernelspec": {
   "display_name": "Python 3.10.6 64-bit",
   "language": "python",
   "name": "python3"
  },
  "language_info": {
   "codemirror_mode": {
    "name": "ipython",
    "version": 3
   },
   "file_extension": ".py",
   "mimetype": "text/x-python",
   "name": "python",
   "nbconvert_exporter": "python",
   "pygments_lexer": "ipython3",
   "version": "3.10.6"
  },
  "orig_nbformat": 4,
  "vscode": {
   "interpreter": {
    "hash": "e7370f93d1d0cde622a1f8e1c04877d8463912d04d973331ad4851f04de6915a"
   }
  }
 },
 "nbformat": 4,
 "nbformat_minor": 2
}
