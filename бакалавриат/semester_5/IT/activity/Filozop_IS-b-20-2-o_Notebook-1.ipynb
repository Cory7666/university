{
 "cells": [
  {
   "cell_type": "markdown",
   "metadata": {},
   "source": [
    "# Notepad №1. Information technology."
   ]
  },
  {
   "cell_type": "markdown",
   "metadata": {},
   "source": [
    "## Python Philosophy\n",
    "Python developers adhere to a certain programming philosophy called \"The Zen of Python\". Its text is issued by the Python interpreter on the import this command (works once per session).\n",
    "In general, it is suitable for programming in any language."
   ]
  },
  {
   "cell_type": "code",
   "execution_count": 1,
   "metadata": {},
   "outputs": [
    {
     "name": "stdout",
     "output_type": "stream",
     "text": [
      "The Zen of Python, by Tim Peters\n",
      "\n",
      "Beautiful is better than ugly.\n",
      "Explicit is better than implicit.\n",
      "Simple is better than complex.\n",
      "Complex is better than complicated.\n",
      "Flat is better than nested.\n",
      "Sparse is better than dense.\n",
      "Readability counts.\n",
      "Special cases aren't special enough to break the rules.\n",
      "Although practicality beats purity.\n",
      "Errors should never pass silently.\n",
      "Unless explicitly silenced.\n",
      "In the face of ambiguity, refuse the temptation to guess.\n",
      "There should be one-- and preferably only one --obvious way to do it.\n",
      "Although that way may not be obvious at first unless you're Dutch.\n",
      "Now is better than never.\n",
      "Although never is often better than *right* now.\n",
      "If the implementation is hard to explain, it's a bad idea.\n",
      "If the implementation is easy to explain, it may be a good idea.\n",
      "Namespaces are one honking great idea -- let's do more of those!\n"
     ]
    }
   ],
   "source": [
    "import this # import easter egg"
   ]
  },
  {
   "cell_type": "markdown",
   "metadata": {},
   "source": [
    "## Python as a calc"
   ]
  },
  {
   "cell_type": "code",
   "execution_count": 2,
   "metadata": {},
   "outputs": [
    {
     "data": {
      "text/plain": [
       "28"
      ]
     },
     "execution_count": 2,
     "metadata": {},
     "output_type": "execute_result"
    }
   ],
   "source": [
    "4 * 7 # multiply one number by another"
   ]
  },
  {
   "cell_type": "code",
   "execution_count": 3,
   "metadata": {},
   "outputs": [
    {
     "data": {
      "text/plain": [
       "21"
      ]
     },
     "execution_count": 3,
     "metadata": {},
     "output_type": "execute_result"
    }
   ],
   "source": [
    "3 * (2 + 5) # difficult calculations with "
   ]
  },
  {
   "cell_type": "code",
   "execution_count": 4,
   "metadata": {},
   "outputs": [
    {
     "data": {
      "text/plain": [
       "6"
      ]
     },
     "execution_count": 4,
     "metadata": {},
     "output_type": "execute_result"
    }
   ],
   "source": [
    "5 ^ 3 # XOR bitwise"
   ]
  },
  {
   "cell_type": "code",
   "execution_count": 5,
   "metadata": {},
   "outputs": [
    {
     "data": {
      "text/plain": [
       "125"
      ]
     },
     "execution_count": 5,
     "metadata": {},
     "output_type": "execute_result"
    }
   ],
   "source": [
    "5 ** 3 # five to the power of three"
   ]
  },
  {
   "cell_type": "markdown",
   "metadata": {},
   "source": [
    "With addition, multiplication and degree, everything should be clear. Division, at first glance, also does not portend problems:"
   ]
  },
  {
   "cell_type": "code",
   "execution_count": 6,
   "metadata": {},
   "outputs": [
    {
     "data": {
      "text/plain": [
       "4.0"
      ]
     },
     "execution_count": 6,
     "metadata": {},
     "output_type": "execute_result"
    }
   ],
   "source": [
    "12 / 3 # floating point division"
   ]
  },
  {
   "cell_type": "markdown",
   "metadata": {},
   "source": [
    "**Attention!** The behavior of Python version 2 was different: it always divided completely (discarding the remainder). This led to a huge number of problems when the developer expected that the division would be \"normal\", but received an integer. In Python 3, division occurs in floating-point numbers; if you need an integer, you can use a double slash (*//*)."
   ]
  },
  {
   "cell_type": "code",
   "execution_count": 7,
   "metadata": {},
   "outputs": [
    {
     "data": {
      "text/plain": [
       "1"
      ]
     },
     "execution_count": 7,
     "metadata": {},
     "output_type": "execute_result"
    }
   ],
   "source": [
    "3 // 2 # integer division of 3 by 2"
   ]
  },
  {
   "cell_type": "markdown",
   "metadata": {},
   "source": [
    "How are things with other operations? Lets try to extract the square root:"
   ]
  },
  {
   "cell_type": "code",
   "execution_count": 8,
   "metadata": {},
   "outputs": [],
   "source": [
    "# compilation error because function sqrt is undefined\n",
    "# sqrt(4)"
   ]
  },
  {
   "cell_type": "markdown",
   "metadata": {},
   "source": [
    "The corresponding function is in the standard math module. To use it, you need to import this module. There are different ways to do this."
   ]
  },
  {
   "cell_type": "code",
   "execution_count": 9,
   "metadata": {},
   "outputs": [
    {
     "data": {
      "text/plain": [
       "2.0"
      ]
     },
     "execution_count": 9,
     "metadata": {},
     "output_type": "execute_result"
    }
   ],
   "source": [
    "import math # import module math\n",
    "math.sqrt(4) # call function sqrt with param 4"
   ]
  },
  {
   "cell_type": "markdown",
   "metadata": {},
   "source": [
    "After the math module is imported, you can find out what other functions it has. In IPython Notebook, it is enough to enter the name of the module, put a period and press the \"Tab\" button. For example, the sine:"
   ]
  },
  {
   "cell_type": "code",
   "execution_count": 10,
   "metadata": {},
   "outputs": [
    {
     "data": {
      "text/plain": [
       "0.0"
      ]
     },
     "execution_count": 10,
     "metadata": {},
     "output_type": "execute_result"
    }
   ],
   "source": [
    "math.sin(0) # call function sin"
   ]
  },
  {
   "cell_type": "markdown",
   "metadata": {},
   "source": [
    "The above syntax may be inconvenient if you often have to call some mathematical functions. In order not to write the word \"math\" every time, you can import specific functions from the module."
   ]
  },
  {
   "cell_type": "code",
   "execution_count": 11,
   "metadata": {},
   "outputs": [
    {
     "data": {
      "text/plain": [
       "2.0"
      ]
     },
     "execution_count": 11,
     "metadata": {},
     "output_type": "execute_result"
    }
   ],
   "source": [
    "from math import sqrt # from module math import only function sqrt \n",
    "sqrt(4) # call function sqrt"
   ]
  },
  {
   "cell_type": "markdown",
   "metadata": {},
   "source": [
    "## Real numbers\n",
    "Real numbers in programming are not so simple. For example, let's calculate the sine of a number $\\pi$."
   ]
  },
  {
   "cell_type": "code",
   "execution_count": 12,
   "metadata": {},
   "outputs": [
    {
     "data": {
      "text/plain": [
       "1.2246467991473532e-16"
      ]
     },
     "execution_count": 12,
     "metadata": {},
     "output_type": "execute_result"
    }
   ],
   "source": [
    "from math import pi, sin # from module math import variable pi and function sin\n",
    "sin(pi) # call function sin"
   ]
  },
  {
   "cell_type": "markdown",
   "metadata": {},
   "source": [
    "An incorrect answer?\n",
    "Firstly, this is the so-called [computer form of exponential notation]([https://ru.wikipedia.org/wiki/%D0%AD%D0%BA%D1%81%D0%BF%D0%BE%D0%BD%D0%B5%D0%BD%D]) numbers. It is convenient if you need to be able to write very large or very small numbers: 1.2.2 means, that is, 1200, and $ 2.4e^{-3} $ is the same as $2.4 * 10^{-3} = 0.0024$. The result calculated by Python for has an order of magnitude — it is a very small number, close to zero. Why not a \"real\" zero? All calculations in real numbers are done by a computer with some limited accuracy, so often instead of \"honest\" answers, such close associates. You have to be ready for this."
   ]
  },
  {
   "cell_type": "markdown",
   "metadata": {},
   "source": [
    "## Variables"
   ]
  },
  {
   "cell_type": "code",
   "execution_count": 13,
   "metadata": {},
   "outputs": [
    {
     "data": {
      "text/plain": [
       "4"
      ]
     },
     "execution_count": 13,
     "metadata": {},
     "output_type": "execute_result"
    }
   ],
   "source": [
    "x = 4 # assign a value 4 to a variable\n",
    "x # show stored value"
   ]
  },
  {
   "cell_type": "markdown",
   "metadata": {},
   "source": [
    "In Python, you don't need to declare a variable specifically somehow — just assign a value to it, and you can use it!"
   ]
  },
  {
   "cell_type": "code",
   "execution_count": 14,
   "metadata": {},
   "outputs": [
    {
     "data": {
      "text/plain": [
       "6"
      ]
     },
     "execution_count": 14,
     "metadata": {},
     "output_type": "execute_result"
    }
   ],
   "source": [
    "x + 2 # show the result of sum 2 and value in x"
   ]
  },
  {
   "cell_type": "code",
   "execution_count": 15,
   "metadata": {},
   "outputs": [
    {
     "data": {
      "text/plain": [
       "6"
      ]
     },
     "execution_count": 15,
     "metadata": {},
     "output_type": "execute_result"
    }
   ],
   "source": [
    "x = x + 2 # store the result of sum 2 and value in x in x\n",
    "x # show stored value"
   ]
  },
  {
   "cell_type": "markdown",
   "metadata": {},
   "source": [
    "Variables can store not only numbers, but also other data. For example, strings. We'll come across\n",
    "this right in the next section."
   ]
  },
  {
   "cell_type": "markdown",
   "metadata": {},
   "source": [
    "## Input"
   ]
  },
  {
   "cell_type": "markdown",
   "metadata": {},
   "source": [
    "Working in Jupiter/IPython Notebook rarely requires writing code that by itself requests data from the keyboard, but for other applications (and in particular for homework) this may be required. In addition, writing interactive applications is a fun activity in itself. Let's write, for example, a program that greets us by name."
   ]
  },
  {
   "cell_type": "code",
   "execution_count": null,
   "metadata": {},
   "outputs": [],
   "source": [
    "name = input(\"Enter your name: \") # show message, get a string from user and store in variable name\n",
    "print(\"Hi,\",name) # print another message and given from user string"
   ]
  },
  {
   "cell_type": "markdown",
   "metadata": {},
   "source": [
    "Now let's try to write a program \"doubler\". It will have to take a number as input, double it and return the result."
   ]
  },
  {
   "cell_type": "code",
   "execution_count": null,
   "metadata": {},
   "outputs": [],
   "source": [
    "x = input(\"Enter some number: \") # show message, get a string from user and store in variable x\n",
    "print(x*2) # print the doubled value of x"
   ]
  },
  {
   "cell_type": "markdown",
   "metadata": {},
   "source": [
    "Something's not right here. Of course, in a sense, the computer did what we asked it to do — there was one number 12, and it became two, but we wanted something else. Why did this happen? The fact is that input always returns a string (he doesn't know what we're going to enter — numbers or some other characters; he doesn't understand that the request says \"Enter some number\" - for him it's just some string). And the variable x is now not the number 12, but the string '12' (pay attention to the apostrophes)."
   ]
  },
  {
   "cell_type": "code",
   "execution_count": null,
   "metadata": {},
   "outputs": [],
   "source": [
    "x # show value of the x variable"
   ]
  },
  {
   "cell_type": "markdown",
   "metadata": {},
   "source": [
    "To work with it as a number, you need to turn it from a string type into a numeric one. For example, if we want to work only with integers, then the type int (from the word integer, integer)."
   ]
  },
  {
   "cell_type": "code",
   "execution_count": null,
   "metadata": {},
   "outputs": [],
   "source": [
    "int(x) # explicitly cast value of x variable to type int"
   ]
  },
  {
   "cell_type": "markdown",
   "metadata": {},
   "source": [
    "You see, there are no apostrophes — this is already a number. The word int is both a data type designation (integers) and a function that turns what was passed to it as an argument into the specified data type.\n",
    "Let's rewrite the doubler program as follows:"
   ]
  },
  {
   "cell_type": "code",
   "execution_count": null,
   "metadata": {},
   "outputs": [],
   "source": [
    "x_str = input(\"Введите какое-нибудь число: \") # show message, get a string from user and store in variable x_str\n",
    "x = int(x_str) # cast value of x_str to type int and store the result in variable x\n",
    "print(x*2) # print the doubled value"
   ]
  },
  {
   "cell_type": "markdown",
   "metadata": {},
   "source": [
    "Quite another matter! Now in x_str lies the line that we entered, the result of its conversion to an integer is placed in x, and then this number is doubled and displayed on the screen. It would be possible not to enter an additional variable (and save a line):"
   ]
  },
  {
   "cell_type": "code",
   "execution_count": null,
   "metadata": {},
   "outputs": [],
   "source": [
    "# show message, get a string from user, cast\n",
    "# string to type int and store the result in variable x\n",
    "x = int(input(\"Введите какое-нибудь число: \"))\n",
    "print(x*2) # print the doubled value"
   ]
  },
  {
   "cell_type": "markdown",
   "metadata": {},
   "source": [
    "Let's try again."
   ]
  },
  {
   "cell_type": "code",
   "execution_count": null,
   "metadata": {},
   "outputs": [],
   "source": [
    "# show message, get a string from user, cast\n",
    "# string to type int and store the result in variable x\n",
    "x = int(input(\"Введите какое-нибудь число: \"))\n",
    "print(x*2) # print the doubled value"
   ]
  },
  {
   "cell_type": "markdown",
   "metadata": {},
   "source": [
    "I tried to enter the number 12.34 (not an integer) and Python could not convert it to the int type (that is, to make an integer from the line \"12.34\" and returned an error. If we wanted to work with non-integers, we needed to use the float type."
   ]
  },
  {
   "cell_type": "code",
   "execution_count": null,
   "metadata": {},
   "outputs": [],
   "source": [
    "# show message, get a string from user, cast\n",
    "# string to type float and store the result in\n",
    "# variable x\n",
    "x = float(input(\"Введите какое-нибудь число (не обязательно целое): \"))\n",
    "print(x*2) # print the doubled value"
   ]
  },
  {
   "cell_type": "markdown",
   "metadata": {},
   "source": [
    "That's work!"
   ]
  },
  {
   "cell_type": "markdown",
   "metadata": {},
   "source": [
    "By the way, to turn a number into a string, you can use the str function. In general, the name of any data type, being called as a function, tries to convert its argument to the corresponding data type."
   ]
  },
  {
   "cell_type": "markdown",
   "metadata": {},
   "source": [
    "## Practical task: Fibonacci numbers"
   ]
  },
  {
   "cell_type": "markdown",
   "metadata": {},
   "source": [
    "Fibonacci numbers or the Fibonacci sequence is a sequence of numbers starting with two ones, and such that the next number in this sequence is equal to the sum of the previous two. Formally , it can be defined as follows:"
   ]
  },
  {
   "cell_type": "markdown",
   "metadata": {},
   "source": [
    "$a_{1} = 1;$"
   ]
  },
  {
   "cell_type": "markdown",
   "metadata": {},
   "source": [
    "$a_{2} = 1;$"
   ]
  },
  {
   "cell_type": "markdown",
   "metadata": {},
   "source": [
    "$a_{n+1} = a_{n} + a_{n-1}$ for all $n > 2$."
   ]
  },
  {
   "cell_type": "markdown",
   "metadata": {},
   "source": [
    "For example, $a_3 = 1 + 1 = 2$, $a_4 = 2 + 1 = 3$."
   ]
  },
  {
   "cell_type": "markdown",
   "metadata": {},
   "source": [
    "**Task**: calculate the 15th Fibonacci number."
   ]
  },
  {
   "cell_type": "code",
   "execution_count": null,
   "metadata": {},
   "outputs": [],
   "source": [
    "a = 1 # first number\n",
    "b = 1 # second number\n",
    "i = 2 # position of the second number (now it's a_2)"
   ]
  },
  {
   "cell_type": "markdown",
   "metadata": {},
   "source": [
    "We will store the last two numbers, since they determine the next one, as well as the number of the last number found (variable i)."
   ]
  },
  {
   "cell_type": "code",
   "execution_count": null,
   "metadata": {},
   "outputs": [],
   "source": [
    "c = a + b # perform next number\n",
    "i = i + 1 # increment variable i by 1\n",
    "a = b # change values\n",
    "b = c # store perfomed value\n",
    "print(i, b) # print i and b"
   ]
  },
  {
   "cell_type": "markdown",
   "metadata": {},
   "source": [
    "Python executes commands sequentially, line by line, so the order of the commands is very important. By performing this cell several times, you will receive the next Fibonacci number each time."
   ]
  },
  {
   "cell_type": "code",
   "execution_count": null,
   "metadata": {},
   "outputs": [],
   "source": [
    "# repeat again this block of code\n",
    "c = a + b # perform next number\n",
    "i = i + 1 # increment variable i by 1\n",
    "a = b # change values\n",
    "b = c # store perfomed value\n",
    "print(i, b) # print i and b"
   ]
  },
  {
   "cell_type": "code",
   "execution_count": null,
   "metadata": {},
   "outputs": [],
   "source": [
    "# ... and again ...\n",
    "c = a + b # perform next number\n",
    "i = i + 1 # increment variable i by 1\n",
    "a = b # change values\n",
    "b = c # store perfomed value\n",
    "print(i, b) # print i and b"
   ]
  },
  {
   "cell_type": "code",
   "execution_count": null,
   "metadata": {},
   "outputs": [],
   "source": [
    "# ... and again\n",
    "c = a + b # perform next number\n",
    "i = i + 1 # increment variable i by 1\n",
    "a = b # change values\n",
    "b = c # store perfomed value\n",
    "print(i, b) # print i and b"
   ]
  },
  {
   "cell_type": "markdown",
   "metadata": {},
   "source": [
    "A piece of advice: It was possible not to copy this cell with the code many times, but simply run the same cell a few times. The easiest way to do this is using the Ctrl+Enter combination. And, of course, in practice we won't manually execute one code many times — there are loops for this. But we will get to know them at the next lecture."
   ]
  }
 ],
 "metadata": {
  "kernelspec": {
   "display_name": "Python 3 (ipykernel)",
   "language": "python",
   "name": "python3"
  },
  "language_info": {
   "codemirror_mode": {
    "name": "ipython",
    "version": 3
   },
   "file_extension": ".py",
   "mimetype": "text/x-python",
   "name": "python",
   "nbconvert_exporter": "python",
   "pygments_lexer": "ipython3",
   "version": "3.9.12"
  },
  "vscode": {
   "interpreter": {
    "hash": "e7370f93d1d0cde622a1f8e1c04877d8463912d04d973331ad4851f04de6915a"
   }
  }
 },
 "nbformat": 4,
 "nbformat_minor": 2
}
