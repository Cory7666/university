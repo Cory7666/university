{
 "cells": [
  {
   "cell_type": "markdown",
   "metadata": {},
   "source": [
    "# Notebook №9. Information technologies"
   ]
  },
  {
   "cell_type": "markdown",
   "metadata": {},
   "source": [
    "by Alex Filozop from IS/b-20-2-o"
   ]
  },
  {
   "cell_type": "markdown",
   "metadata": {},
   "source": [
    "## Working with the Web Resource API using XML"
   ]
  },
  {
   "cell_type": "code",
   "execution_count": 1,
   "metadata": {},
   "outputs": [],
   "source": [
    "# import specific class from module\n",
    "from bs4 import BeautifulSoup"
   ]
  },
  {
   "cell_type": "markdown",
   "metadata": {},
   "source": [
    "### API и XML"
   ]
  },
  {
   "cell_type": "markdown",
   "metadata": {},
   "source": [
    "Analyzing web pages and extracting information from them, we are trying to write a program that would act like a person. It can be difficult. Fortunately, more and more often various sites offer information that can be easily processed not only by a person, but also by another program. This is called the API — application program interface. A normal interface is a way for a person to interact with a program, and an API is a way for one program to interact with another. For example, your Python script with a remote web server."
   ]
  },
  {
   "cell_type": "markdown",
   "metadata": {},
   "source": [
    "HTML is used to store web pages that people read. To store arbitrary structured data exchanged between programs, other languages are used — in particular, the XML language, similar to HTML. It would be more accurate to say that XML is a metalanguage, that is, a way of describing languages. Unlike HTML, the set of tags in an XML document can be arbitrary (and is determined by the developer of a particular XML dialect). For example, if we wanted to describe in XML some student group, it might look like this:"
   ]
  },
  {
   "cell_type": "code",
   "execution_count": null,
   "metadata": {
    "vscode": {
     "languageId": "xml"
    }
   },
   "outputs": [],
   "source": [
    "<group>\n",
    "  <number>ПИ/б-18-1-о</number>\n",
    "  <student>\n",
    "    <firstname>Виталий</firstname>\n",
    "    <lastname>Иванов</lastname>\n",
    "  </student>\n",
    "  <student>\n",
    "    <firstname>Мария</firstname>\n",
    "    <lastname>Петрова</lastname>\n",
    "  </student>\n",
    "</group>"
   ]
  },
  {
   "cell_type": "markdown",
   "metadata": {},
   "source": [
    "To process XML files, you can use the same *Beautiful Soup* package that we have already used to work with HTML. The only difference is that you need to specify an additional parameter `features=\"xml\"` when calling the *Beautiful Soup* function — so that it does not search in the document HTML tags."
   ]
  },
  {
   "cell_type": "markdown",
   "metadata": {},
   "source": [
    "If the `features=\"xml\"` parameter leads to an error, then you need to install the *lxml* package. To do this, open the Anaconda Prompt window and run the `pip install lxml` command"
   ]
  },
  {
   "cell_type": "code",
   "execution_count": 3,
   "metadata": {},
   "outputs": [],
   "source": [
    "# assign a string (xml) to the variable \n",
    "group = \"\"\"<group>\n",
    "  <number>ПИ/б-18-1-о</number>\n",
    "  <student>\n",
    "  <firstname>Виталий</firstname>\n",
    "  <lastname>Иванов</lastname>\n",
    "  </student>\n",
    "  <student>\n",
    "  <firstname>Мария</firstname>\n",
    "  <lastname>Петрова</lastname>\n",
    "  </student>\n",
    "  </group>\"\"\""
   ]
  },
  {
   "cell_type": "code",
   "execution_count": 4,
   "metadata": {},
   "outputs": [
    {
     "name": "stdout",
     "output_type": "stream",
     "text": [
      "<?xml version=\"1.0\" encoding=\"utf-8\"?>\n",
      "<group>\n",
      " <number>\n",
      "  ПИ/б-18-1-о\n",
      " </number>\n",
      " <student>\n",
      "  <firstname>\n",
      "   Виталий\n",
      "  </firstname>\n",
      "  <lastname>\n",
      "   Иванов\n",
      "  </lastname>\n",
      " </student>\n",
      " <student>\n",
      "  <firstname>\n",
      "   Мария\n",
      "  </firstname>\n",
      "  <lastname>\n",
      "   Петрова\n",
      "  </lastname>\n",
      " </student>\n",
      "</group>\n"
     ]
    }
   ],
   "source": [
    "obj = BeautifulSoup(group, features=\"xml\") # parse xml string\n",
    "print(obj.prettify()) # print parsed string in pretty format"
   ]
  },
  {
   "cell_type": "markdown",
   "metadata": {},
   "source": [
    "This is how we can find the group number in our XML document:"
   ]
  },
  {
   "cell_type": "code",
   "execution_count": 5,
   "metadata": {},
   "outputs": [
    {
     "data": {
      "text/plain": [
       "'ПИ/б-18-1-о'"
      ]
     },
     "execution_count": 5,
     "metadata": {},
     "output_type": "execute_result"
    }
   ],
   "source": [
    "obj.group.number.string # get a parsed value"
   ]
  },
  {
   "cell_type": "markdown",
   "metadata": {},
   "source": [
    "This means \"find the *group* tag in the obj object, find the *number* tag in it and output as a string what it contains."
   ]
  },
  {
   "cell_type": "markdown",
   "metadata": {},
   "source": [
    "And this is how you can list all the students:"
   ]
  },
  {
   "cell_type": "code",
   "execution_count": 6,
   "metadata": {},
   "outputs": [
    {
     "name": "stdout",
     "output_type": "stream",
     "text": [
      "Иванов Виталий\n",
      "Петрова Мария\n"
     ]
    }
   ],
   "source": [
    "# print all students personal data by using for loop\n",
    "for student in obj.group.findAll('student'):\n",
    "  print(student.lastname.string, student.firstname.string)"
   ]
  },
  {
   "cell_type": "markdown",
   "metadata": {},
   "source": [
    "### Get a list of articles from the category in Wikipedia"
   ]
  },
  {
   "cell_type": "markdown",
   "metadata": {},
   "source": [
    "Let's say we needed to get a list of all articles from some category in Wikipedia. We could open this category in the browser and continue to use the methods discussed above. However, Wikipedia has a convenient API. To learn how to work with it, you will have to get acquainted with [the documentation]([https://www.mediawiki.org/wiki/API:Main_page]) (this will be the case with any API), but it seems complicated only the first time."
   ]
  },
  {
   "cell_type": "markdown",
   "metadata": {},
   "source": [
    "So, let's get started. Interaction with the server using the API occurs by sending specially generated requests and receiving a response in one of the machine-readable formats. We will be interested in the XML format, although there are others (later we will get acquainted with JSON). But we can send such a request:"
   ]
  },
  {
   "cell_type": "markdown",
   "metadata": {},
   "source": [
    "[https://en.wikipedia.org/w/api.php?action=query&list=categorymembers&cmtitle=Category:Physics&cmsort=timestamp&cmdir=desc&format=xmlfm]([https://en.wikipedia.org/w/api.php?action=query&list=categorymembers&cmtitle=Category:Physics&cmsort=timestamp&cmdir=desc&format=xmlfm])"
   ]
  },
  {
   "cell_type": "markdown",
   "metadata": {},
   "source": [
    "String *https://en.wikipedia.org/w/api.php* (before the question mark) is the API entry point. Everything that comes after the question mark is, in fact, a request. It is something like a dictionary and consists of \"key=value\" pairs separated by an ampersand & . Some characters have to be encoded in a special way."
   ]
  },
  {
   "cell_type": "markdown",
   "metadata": {},
   "source": [
    "For example, the address above says that we want to make a query (*action=query*), list the elements of the category *list=categorymembers*, as the category that interests us is indicated Category:Physics ( cmtitle=Category:Physics ) and some other parameters are specified. If you click on this link, something like this will open:"
   ]
  },
  {
   "cell_type": "code",
   "execution_count": null,
   "metadata": {
    "vscode": {
     "languageId": "xml"
    }
   },
   "outputs": [],
   "source": [
    "<?xml version=\"1.0\"?>\n",
    "<api batchcomplete=\"\">\n",
    "<continue cmcontinue=\"2015-05-30 19:37:50|1653925\" continue=\"-||\" />\n",
    "<query>\n",
    "  <categorymembers>\n",
    "    <cm pageid=\"24293838\" ns=\"0\" title=\"Wigner rotation\" />\n",
    "    <cm pageid=\"48583145\" ns=\"0\" title=\"Northwest Nuclear Consortium\" />\n",
    "    <cm pageid=\"48407923\" ns=\"0\" title=\"Hume Feldman\" />\n",
    "    <cm pageid=\"48249441\" ns=\"0\" title=\"Phase Stretch Transform\" />\n",
    "    <cm pageid=\"47723069\" ns=\"0\" title=\"Epicatalysis\" />\n",
    "    <cm pageid=\"2237966\" ns=\"14\" title=\"Category:Surface science\" />\n",
    "    <cm pageid=\"2143601\" ns=\"14\" title=\"Category:Interaction\" />\n",
    "    <cm pageid=\"10844347\" ns=\"14\" title=\"Category:Physical systems\" />\n",
    "    <cm pageid=\"18726608\" ns=\"14\" title=\"Category:Physical quantities\" />\n",
    "    <cm pageid=\"22688097\" ns=\"0\" title=\"Branches of physics\" />\n",
    "  </categorymembers>\n",
    "</query>\n",
    "</api>"
   ]
  },
  {
   "cell_type": "markdown",
   "metadata": {},
   "source": [
    "We see different tags here, and we see that we are interested in the `<cm>` tags that are inside the tag `<categorymembers>`."
   ]
  },
  {
   "cell_type": "markdown",
   "metadata": {},
   "source": [
    "Let's make the appropriate request using Python. To do this , we will need the already familiar `requests` module."
   ]
  },
  {
   "cell_type": "code",
   "execution_count": 8,
   "metadata": {},
   "outputs": [],
   "source": [
    "# import module\n",
    "import requests"
   ]
  },
  {
   "cell_type": "code",
   "execution_count": 9,
   "metadata": {},
   "outputs": [],
   "source": [
    "url = \"https://en.wikipedia.org/w/api.php\" # create a string (URL)\n",
    "# create a dictionary (query parameters)\n",
    "params = {\n",
    "  'action':'query',\n",
    "  'list':'categorymembers',\n",
    "  'cmtitle': 'Category:Physics',\n",
    "  'format': 'xml'\n",
    "}\n",
    "g = requests.get(url, params=params) # perform a GET query and assign the result to the variable"
   ]
  },
  {
   "cell_type": "markdown",
   "metadata": {},
   "source": [
    "As you can see, we pass the list of parameters in the form of a regular dictionary. Let's see what happened."
   ]
  },
  {
   "cell_type": "code",
   "execution_count": 10,
   "metadata": {},
   "outputs": [
    {
     "data": {
      "text/plain": [
       "True"
      ]
     },
     "execution_count": 10,
     "metadata": {},
     "output_type": "execute_result"
    }
   ],
   "source": [
    "g.ok # does status code of the request place between 200 and 400"
   ]
  },
  {
   "cell_type": "markdown",
   "metadata": {},
   "source": [
    "It's all good. Now we use Beautiful Soup to process this XML."
   ]
  },
  {
   "cell_type": "code",
   "execution_count": 11,
   "metadata": {},
   "outputs": [],
   "source": [
    "data = BeautifulSoup(g.text, features='xml') # parse a XML document"
   ]
  },
  {
   "cell_type": "code",
   "execution_count": 12,
   "metadata": {},
   "outputs": [
    {
     "name": "stdout",
     "output_type": "stream",
     "text": [
      "<?xml version=\"1.0\" encoding=\"utf-8\"?>\n",
      "<api batchcomplete=\"\">\n",
      " <continue cmcontinue=\"subcat|383a4e50464c5a0446340448385a4e3a2e4e011601dc15|1310583\" continue=\"-||\"/>\n",
      " <query>\n",
      "  <categorymembers>\n",
      "   <cm ns=\"0\" pageid=\"22939\" title=\"Physics\"/>\n",
      "   <cm ns=\"100\" pageid=\"1653925\" title=\"Portal:Physics\"/>\n",
      "   <cm ns=\"0\" pageid=\"23479\" title=\"Physicalism\"/>\n",
      "   <cm ns=\"0\" pageid=\"71771866\" title=\"Six Ideas that Shaped Physics\"/>\n",
      "   <cm ns=\"14\" pageid=\"36477012\" title=\"Category:Concepts in physics\"/>\n",
      "   <cm ns=\"14\" pageid=\"49740128\" title=\"Category:Subfields of physics\"/>\n",
      "   <cm ns=\"14\" pageid=\"694942\" title=\"Category:Physicists\"/>\n",
      "   <cm ns=\"14\" pageid=\"5625591\" title=\"Category:Physics awards\"/>\n",
      "   <cm ns=\"14\" pageid=\"70983414\" title=\"Category:Physics by country\"/>\n",
      "   <cm ns=\"14\" pageid=\"71976587\" title=\"Category:Physics events\"/>\n",
      "  </categorymembers>\n",
      " </query>\n",
      "</api>\n"
     ]
    }
   ],
   "source": [
    "print(data.prettify()) # print a parsed document in pretty format"
   ]
  },
  {
   "cell_type": "markdown",
   "metadata": {},
   "source": [
    "Find all occurrences of the `<cm>` tag and output their `title` attribute:"
   ]
  },
  {
   "cell_type": "code",
   "execution_count": 13,
   "metadata": {},
   "outputs": [
    {
     "name": "stdout",
     "output_type": "stream",
     "text": [
      "Physics\n",
      "Portal:Physics\n",
      "Physicalism\n",
      "Six Ideas that Shaped Physics\n",
      "Category:Concepts in physics\n",
      "Category:Subfields of physics\n",
      "Category:Physicists\n",
      "Category:Physics awards\n",
      "Category:Physics by country\n",
      "Category:Physics events\n"
     ]
    }
   ],
   "source": [
    "# print title of each article via for loop\n",
    "for cm in data.api.query.categorymembers(\"cm\"):\n",
    "  print(cm['title'])"
   ]
  },
  {
   "cell_type": "markdown",
   "metadata": {},
   "source": [
    "It was possible to simplify the search for `<cm>` without specifying the \"full path\" to them:"
   ]
  },
  {
   "cell_type": "code",
   "execution_count": 14,
   "metadata": {},
   "outputs": [
    {
     "name": "stdout",
     "output_type": "stream",
     "text": [
      "Physics\n",
      "Portal:Physics\n",
      "Physicalism\n",
      "Six Ideas that Shaped Physics\n",
      "Category:Concepts in physics\n",
      "Category:Subfields of physics\n",
      "Category:Physicists\n",
      "Category:Physics awards\n",
      "Category:Physics by country\n",
      "Category:Physics events\n"
     ]
    }
   ],
   "source": [
    "# do the same above\n",
    "for cm in data(\"cm\"):\n",
    "  print(cm['title'])"
   ]
  },
  {
   "cell_type": "markdown",
   "metadata": {},
   "source": [
    "By default, the server returned us a list of 10 items. If we want more, we need to use the `continue` element — this is a kind of hyperlink to the next 10 elements."
   ]
  },
  {
   "cell_type": "code",
   "execution_count": 15,
   "metadata": {},
   "outputs": [
    {
     "data": {
      "text/plain": [
       "'subcat|383a4e50464c5a0446340448385a4e3a2e4e011601dc15|1310583'"
      ]
     },
     "execution_count": 15,
     "metadata": {},
     "output_type": "execute_result"
    }
   ],
   "source": [
    "data.find(\"continue\")['cmcontinue'] # get a tag value"
   ]
  },
  {
   "cell_type": "markdown",
   "metadata": {},
   "source": [
    "We had to use the `find()` method instead of just writing `data.continue`, because continue in Python has a special meaning."
   ]
  },
  {
   "cell_type": "markdown",
   "metadata": {},
   "source": [
    "Now let's add `cmcontinue` to our request and execute it again:"
   ]
  },
  {
   "cell_type": "code",
   "execution_count": 16,
   "metadata": {},
   "outputs": [],
   "source": [
    "params['cmcontinue'] = data.api(\"continue\")[0]['cmcontinue']"
   ]
  },
  {
   "cell_type": "code",
   "execution_count": 18,
   "metadata": {},
   "outputs": [
    {
     "name": "stdout",
     "output_type": "stream",
     "text": [
      "Category:History of physics\n",
      "Category:Physics-related lists\n",
      "Category:Physics literature\n",
      "Category:Physical modeling\n",
      "Category:Physics organizations\n",
      "Category:Physical systems\n",
      "Category:Works about physics\n",
      "Category:Physics stubs\n"
     ]
    }
   ],
   "source": [
    "g = requests.get(url, params=params)\n",
    "data = BeautifulSoup(g.text, features='xml')\n",
    "for cm in data.api.query.categorymembers(\"cm\"):\n",
    "  print(cm['title'])"
   ]
  },
  {
   "cell_type": "markdown",
   "metadata": {},
   "source": [
    "We got the following 10 items from the category. Continuing in this way, you can even pump it out completely (although it will take a lot of time)."
   ]
  },
  {
   "cell_type": "markdown",
   "metadata": {},
   "source": [
    "Similarly, work with a variety of other APIs available on different sites is implemented. Somewhere the API is completely open (as in Wikipedia), somewhere you will need to register and get an application id and some key to access the API, somewhere you will even be asked to pay (for example, an automatic Google search costs something like $ 5 per 100 requests). There are APIs that only allow you to read information, and there are also those that allow you to edit it. For example, you can write a script that will automatically save some information in Google Spreadsheets. Whenever you use the API, you will have to study its documentation, but in any case it is easier than processing HTML code. Sometimes it is possible to simplify API access by using special libraries."
   ]
  }
 ],
 "metadata": {
  "kernelspec": {
   "display_name": "Python 3.10.6 64-bit",
   "language": "python",
   "name": "python3"
  },
  "language_info": {
   "codemirror_mode": {
    "name": "ipython",
    "version": 3
   },
   "file_extension": ".py",
   "mimetype": "text/x-python",
   "name": "python",
   "nbconvert_exporter": "python",
   "pygments_lexer": "ipython3",
   "version": "3.10.6"
  },
  "orig_nbformat": 4,
  "vscode": {
   "interpreter": {
    "hash": "e7370f93d1d0cde622a1f8e1c04877d8463912d04d973331ad4851f04de6915a"
   }
  }
 },
 "nbformat": 4,
 "nbformat_minor": 2
}
